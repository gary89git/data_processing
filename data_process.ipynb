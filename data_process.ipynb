{
 "cells": [
  {
   "cell_type": "markdown",
   "metadata": {},
   "source": [
    "# Data Processing"
   ]
  },
  {
   "cell_type": "code",
   "execution_count": 1,
   "metadata": {},
   "outputs": [],
   "source": [
    "import numpy as np\n",
    "import os\n",
    "import openpyxl as opxl\n",
    "import pandas as pd\n",
    "from sklearn.linear_model import LinearRegression\n",
    "import plotly.plotly as py\n",
    "import plotly.graph_objs as go\n",
    "import plotly\n",
    "plotly.tools.set_credentials_file(username='garyhan', api_key='jb6utiwqOF7F3bAuf1Td')"
   ]
  },
  {
   "cell_type": "code",
   "execution_count": 5,
   "metadata": {},
   "outputs": [],
   "source": [
    "# os.chdir('/Users/gary/OneDrive/Research/Platelets/results/')\n",
    "os.chdir('D:/OneDrive/Research/Platelets/results/')\n",
    "# os.listdir('.')"
   ]
  },
  {
   "cell_type": "code",
   "execution_count": 6,
   "metadata": {},
   "outputs": [],
   "source": [
    "file = 'velocity.xlsx'\n",
    "vel = pd.read_excel(file)\n",
    "# print(vel.shape)\n",
    "df = pd.DataFrame(vel)\n",
    "# print(df)\n",
    "# print(df.iloc[0:,2:4])"
   ]
  },
  {
   "cell_type": "code",
   "execution_count": 24,
   "metadata": {},
   "outputs": [
    {
     "name": "stdout",
     "output_type": "stream",
     "text": [
      "intercept:  [0.10793341]\n",
      "slope:  [[0.00234948]]\n"
     ]
    }
   ],
   "source": [
    "reg = LinearRegression().fit(df.iloc[:,2].values.reshape(-1,1), df.iloc[:,4].values.reshape(-1,1))\n",
    "print('intercept: ', reg.intercept_)\n",
    "print('slope: ', reg.coef_)\n",
    "y_fit = reg.predict(np.array(range(-45,1)).reshape(-1,1))"
   ]
  },
  {
   "cell_type": "code",
   "execution_count": 25,
   "metadata": {},
   "outputs": [
    {
     "name": "stdout",
     "output_type": "stream",
     "text": [
      "High five! You successfully sent some data to your account on plotly. View your plot in your browser at https://plot.ly/~garyhan/0 or inside your plot.ly account where it is named 'Velocity Profile'\n"
     ]
    },
    {
     "name": "stderr",
     "output_type": "stream",
     "text": [
      "D:\\Software\\Anaconda3\\envs\\py37\\lib\\site-packages\\IPython\\core\\display.py:689: UserWarning:\n",
      "\n",
      "Consider using IPython.display.IFrame instead\n",
      "\n"
     ]
    },
    {
     "data": {
      "text/html": [
       "<iframe id=\"igraph\" scrolling=\"no\" style=\"border:none;\" seamless=\"seamless\" src=\"https://plot.ly/~garyhan/0.embed\" height=\"525px\" width=\"100%\"></iframe>"
      ],
      "text/plain": [
       "<plotly.tools.PlotlyDisplay object>"
      ]
     },
     "execution_count": 25,
     "metadata": {},
     "output_type": "execute_result"
    }
   ],
   "source": [
    "trace0 = go.Scatter(\n",
    "    y = df.iloc[:,2],\n",
    "    x = df.iloc[:,4],\n",
    "    mode = 'lines+markers',\n",
    "    line = dict(color = 'green'),\n",
    "    name = 'velocity'\n",
    ")\n",
    "trace1 = go.Scatter(\n",
    "    y = np.array(range(-45,1)),\n",
    "    x = y_fit,\n",
    "    line = dict(\n",
    "        color = 'red',\n",
    "        width = 4,\n",
    "        dash = 'dot'),\n",
    "    name = 'fitted line'\n",
    ")\n",
    "data = [trace0,trace1]\n",
    "layout = go.Layout(\n",
    "    xaxis=dict(\n",
    "        range=[0, 0.12],\n",
    "        title='Velocity',\n",
    "#         titlefont=dict(\n",
    "#             family='Courier New, monospace',\n",
    "#             size=18,\n",
    "#             color='#7f7f7f'\n",
    "#         ),\n",
    "        showline=True,\n",
    "        zeroline=False,\n",
    "#     rangeselector=dict(\n",
    "#             buttons=list([\n",
    "#                 dict(count=1,\n",
    "#                      label='1m',\n",
    "#                      step='month',\n",
    "#                      stepmode='backward'),\n",
    "#                 dict(count=6,\n",
    "#                      label='6m',\n",
    "#                      step='month',\n",
    "#                      stepmode='backward'),\n",
    "#                 dict(count=1,\n",
    "#                     label='YTD',\n",
    "#                     step='year',\n",
    "#                     stepmode='todate'),\n",
    "#                 dict(count=1,\n",
    "#                     label='1y',\n",
    "#                     step='year',\n",
    "#                     stepmode='backward'),\n",
    "#                 dict(step='all')\n",
    "#             ])\n",
    "#         ),\n",
    "        rangeslider=dict(\n",
    "            visible = True\n",
    "        )\n",
    "    ),\n",
    "    yaxis=dict(\n",
    "        range=[-45, 1],\n",
    "        title='Height',\n",
    "#         titlefont=dict(\n",
    "#             family='Courier New, monospace',\n",
    "#             size=18,\n",
    "#             color='#7f7f7f'\n",
    "#         ),\n",
    "        showline=True,\n",
    "        zeroline=False\n",
    "    )\n",
    ")\n",
    "fig = go.Figure(data=data, layout=layout)\n",
    "py.iplot(fig, filename='Velocity Profile')"
   ]
  },
  {
   "cell_type": "code",
   "execution_count": 27,
   "metadata": {},
   "outputs": [
    {
     "name": "stdout",
     "output_type": "stream",
     "text": [
      "shear stress:  10.050628164260266\n"
     ]
    }
   ],
   "source": [
    "shear_stress = 200 * (0.1/45) * (12.06/0.5333)\n",
    "print('shear stress: ', shear_stress)"
   ]
  }
 ],
 "metadata": {
  "kernelspec": {
   "display_name": "Python 3",
   "language": "python",
   "name": "python3"
  },
  "language_info": {
   "codemirror_mode": {
    "name": "ipython",
    "version": 3
   },
   "file_extension": ".py",
   "mimetype": "text/x-python",
   "name": "python",
   "nbconvert_exporter": "python",
   "pygments_lexer": "ipython3",
   "version": "3.7.1"
  }
 },
 "nbformat": 4,
 "nbformat_minor": 2
}
