{
 "cells": [
  {
   "cell_type": "markdown",
   "metadata": {
    "toc": true
   },
   "source": [
    "<h1>Table of Contents<span class=\"tocSkip\"></span></h1>\n",
    "<div class=\"toc\"><ul class=\"toc-item\"></ul></div>"
   ]
  },
  {
   "cell_type": "markdown",
   "metadata": {},
   "source": [
    "# Data Extraction"
   ]
  },
  {
   "cell_type": "code",
   "execution_count": 16,
   "metadata": {},
   "outputs": [
    {
     "data": {
      "text/html": [
       "<script type=\"text/javascript\">window.PlotlyConfig = {MathJaxConfig: 'local'};</script><script type=\"text/javascript\">if (window.MathJax) {MathJax.Hub.Config({SVG: {font: \"STIX-Web\"}});}</script><script>requirejs.config({paths: { 'plotly': ['https://cdn.plot.ly/plotly-latest.min']},});if(!window._Plotly) {require(['plotly'],function(plotly) {window._Plotly=plotly;});}</script>"
      ],
      "text/vnd.plotly.v1+html": [
       "<script type=\"text/javascript\">window.PlotlyConfig = {MathJaxConfig: 'local'};</script><script type=\"text/javascript\">if (window.MathJax) {MathJax.Hub.Config({SVG: {font: \"STIX-Web\"}});}</script><script>requirejs.config({paths: { 'plotly': ['https://cdn.plot.ly/plotly-latest.min']},});if(!window._Plotly) {require(['plotly'],function(plotly) {window._Plotly=plotly;});}</script>"
      ]
     },
     "metadata": {},
     "output_type": "display_data"
    }
   ],
   "source": [
    "import numpy as np\n",
    "import os\n",
    "# import xlrd\n",
    "import openpyxl as xl\n",
    "import pandas as pd\n",
    "# from sklearn.linear_model import LinearRegression\n",
    "import matplotlib.pyplot as pl\n",
    "import seaborn as sea\n",
    "from plotly.offline import iplot, plot, init_notebook_mode\n",
    "import plotly.plotly as py\n",
    "import plotly.graph_objs as go\n",
    "import plotly.io as pio\n",
    "import plotly\n",
    "plotly.tools.set_credentials_file(username='garyhan', api_key='jb6utiwqOF7F3bAuf1Td')\n",
    "init_notebook_mode(connected=True)\n",
    "\n",
    "import math\n",
    "from math import factorial\n",
    "#import Image\n",
    "import numpy as np"
   ]
  },
  {
   "cell_type": "code",
   "execution_count": 17,
   "metadata": {},
   "outputs": [],
   "source": [
    "os.chdir('/Users/changnianhan/Downloads/simulation/')\n",
    "# os.chdir('/Users/changnianhan/OneDrive/Research/Platelets/results/')\n",
    "# os.chdir('C:/Users/garyh/OneDrive/Research/Platelets/results/')\n",
    "# os.listdir('.')"
   ]
  },
  {
   "cell_type": "code",
   "execution_count": null,
   "metadata": {},
   "outputs": [],
   "source": [
    "workbook = xl.load_workbook(\"test.xlsx\")\n",
    "# workbook.remove(workbook['test'])\n",
    "# workbook.remove(workbook['test2'])\n",
    "# workbook.save(\"test.xlsx\")\n",
    "print(workbook.sheetnames)"
   ]
  },
  {
   "cell_type": "code",
   "execution_count": null,
   "metadata": {},
   "outputs": [],
   "source": [
    "def extract_E(input_f, output_f, sheetname, rows):\n",
    "    output_f = '/Users/changnianhan/OneDrive/Research/Platelets/results/' + output_f\n",
    "#     output_f = 'C:/Users/garyh/OneDrive/Research/Platelets/results/' + output_f\n",
    "    wb = xl.load_workbook(output_f)\n",
    "    if sheetname not in wb.sheetnames:\n",
    "        wb.create_sheet(sheetname)\n",
    "    sheet = wb[sheetname]\n",
    "#     time_unit = 0.0005 * 2.08\n",
    "#     energy_unit = 1.271\n",
    "    with open(input_f, 'r') as in_f:\n",
    "        for line in in_f:\n",
    "            if 'Press' in line:\n",
    "#                 line = next(in_f)\n",
    "#                 num = line.strip().split()\n",
    "#                 mystep, tran, rot, temp = int(num[0]), float(num[3]), float(num[4]), float(num[5])\n",
    "#                 print(mystep, end=' ')\n",
    "                for j in range(rows):\n",
    "                    line = next(in_f)\n",
    "                    if 'WARNING' in line:\n",
    "                        line = next(in_f)\n",
    "                    num = line.strip().split()\n",
    "#                     tran += float(num[-3])\n",
    "#                     rot += float(num[-2])\n",
    "#                     temp += float(num[-1])\n",
    "                    sheet.append(tuple([int(num[0]), float(num[3]), float(num[4]), float(num[5])]))\n",
    "#     sheet.append(tuple(''))\n",
    "    wb.save(output_f)"
   ]
  },
  {
   "cell_type": "code",
   "execution_count": null,
   "metadata": {},
   "outputs": [],
   "source": [
    "extract_E('screen-tq-ine1', 'test.xlsx', 'torque', 5)"
   ]
  },
  {
   "cell_type": "code",
   "execution_count": 19,
   "metadata": {},
   "outputs": [],
   "source": [
    "def write_excel(input_f, output_f, sheetname, rows):\n",
    "    output_f = '/Users/changnianhan/OneDrive/Research/Platelets/results/' + output_f\n",
    "    wb = xl.load_workbook(output_f)\n",
    "    if sheetname not in wb.sheetnames:\n",
    "        wb.create_sheet(sheetname)\n",
    "    sheet = wb[sheetname]\n",
    "    i = 5052\n",
    "    with open(input_f, 'r') as in_f:\n",
    "        for line in in_f:\n",
    "            if 'Press' in line:\n",
    "#                 mystep, tran, rot, temp = int(num[0]), float(num[3]), float(num[4]), float(num[5])\n",
    "                for j in range(rows):\n",
    "                    line = next(in_f)\n",
    "                    if 'WARNING' in line:\n",
    "                        line = next(in_f)\n",
    "                    num = line.strip().split()\n",
    "                    sheet.cell(row=i,column=27).value = float(num[3])\n",
    "                    sheet.cell(row=i,column=28).value = float(num[4])\n",
    "                    sheet.cell(row=i,column=29).value = float(num[5])\n",
    "                    i += 10\n",
    "#     sheet.append(tuple(''))\n",
    "    wb.save(output_f)\n",
    "    print(\"Saved!\")"
   ]
  },
  {
   "cell_type": "code",
   "execution_count": 20,
   "metadata": {},
   "outputs": [
    {
     "name": "stdout",
     "output_type": "stream",
     "text": [
      "Saved!\n"
     ]
    }
   ],
   "source": [
    "write_excel('screen-tq-ine1', 'flip-spin.xlsx', 'f2-30', 5)"
   ]
  },
  {
   "cell_type": "code",
   "execution_count": null,
   "metadata": {},
   "outputs": [],
   "source": []
  }
 ],
 "metadata": {
  "anaconda-cloud": {},
  "kernelspec": {
   "display_name": "Python [conda env:py37] *",
   "language": "python",
   "name": "conda-env-py37-py"
  },
  "language_info": {
   "codemirror_mode": {
    "name": "ipython",
    "version": 3
   },
   "file_extension": ".py",
   "mimetype": "text/x-python",
   "name": "python",
   "nbconvert_exporter": "python",
   "pygments_lexer": "ipython3",
   "version": "3.7.2"
  },
  "toc": {
   "base_numbering": 1,
   "nav_menu": {},
   "number_sections": true,
   "sideBar": true,
   "skip_h1_title": true,
   "title_cell": "Table of Contents",
   "title_sidebar": "Contents",
   "toc_cell": true,
   "toc_position": {},
   "toc_section_display": true,
   "toc_window_display": false
  }
 },
 "nbformat": 4,
 "nbformat_minor": 2
}
