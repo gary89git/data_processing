{
 "cells": [
  {
   "cell_type": "markdown",
   "metadata": {
    "toc": true
   },
   "source": [
    "<h1>Table of Contents<span class=\"tocSkip\"></span></h1>\n",
    "<div class=\"toc\"><ul class=\"toc-item\"><li><span><a href=\"#Flip-2---Shear-30\" data-toc-modified-id=\"Flip-2---Shear-30-1\"><span class=\"toc-item-num\">1&nbsp;&nbsp;</span>Flip 2 - Shear 30</a></span><ul class=\"toc-item\"><li><span><a href=\"#Kinetic-Energy\" data-toc-modified-id=\"Kinetic-Energy-1.1\"><span class=\"toc-item-num\">1.1&nbsp;&nbsp;</span>Kinetic Energy</a></span></li><li><span><a href=\"#Angular-Velocity\" data-toc-modified-id=\"Angular-Velocity-1.2\"><span class=\"toc-item-num\">1.2&nbsp;&nbsp;</span>Angular Velocity</a></span></li><li><span><a href=\"#Torque\" data-toc-modified-id=\"Torque-1.3\"><span class=\"toc-item-num\">1.3&nbsp;&nbsp;</span>Torque</a></span></li><li><span><a href=\"#Inertia\" data-toc-modified-id=\"Inertia-1.4\"><span class=\"toc-item-num\">1.4&nbsp;&nbsp;</span>Inertia</a></span></li><li><span><a href=\"#Quaternion\" data-toc-modified-id=\"Quaternion-1.5\"><span class=\"toc-item-num\">1.5&nbsp;&nbsp;</span>Quaternion</a></span></li><li><span><a href=\"#Center-of-Mass\" data-toc-modified-id=\"Center-of-Mass-1.6\"><span class=\"toc-item-num\">1.6&nbsp;&nbsp;</span>Center of Mass</a></span></li><li><span><a href=\"#RMSD\" data-toc-modified-id=\"RMSD-1.7\"><span class=\"toc-item-num\">1.7&nbsp;&nbsp;</span>RMSD</a></span></li></ul></li></ul></div>"
   ]
  },
  {
   "cell_type": "markdown",
   "metadata": {},
   "source": [
    "# import packages"
   ]
  },
  {
   "cell_type": "code",
   "execution_count": 1,
   "metadata": {},
   "outputs": [
    {
     "data": {
      "text/html": [
       "        <script type=\"text/javascript\">\n",
       "        window.PlotlyConfig = {MathJaxConfig: 'local'};\n",
       "        if (window.MathJax) {MathJax.Hub.Config({SVG: {font: \"STIX-Web\"}});}\n",
       "        if (typeof require !== 'undefined') {\n",
       "        require.undef(\"plotly\");\n",
       "        requirejs.config({\n",
       "            paths: {\n",
       "                'plotly': ['https://cdn.plot.ly/plotly-latest.min']\n",
       "            }\n",
       "        });\n",
       "        require(['plotly'], function(Plotly) {\n",
       "            window._Plotly = Plotly;\n",
       "        });\n",
       "        }\n",
       "        </script>\n",
       "        "
      ]
     },
     "metadata": {},
     "output_type": "display_data"
    }
   ],
   "source": [
    "import numpy as np\n",
    "import os\n",
    "# import xlrd\n",
    "import openpyxl as xl\n",
    "import pandas as pd\n",
    "# from sklearn.linear_model import LinearRegression\n",
    "import matplotlib.pyplot as pl\n",
    "%matplotlib inline\n",
    "import seaborn as sns\n",
    "from plotly.offline import iplot, plot, init_notebook_mode\n",
    "from plotly import tools\n",
    "import plotly.plotly as py\n",
    "import plotly.graph_objs as go\n",
    "import plotly.io as pio\n",
    "import plotly\n",
    "plotly.tools.set_credentials_file(username='garyhan', api_key='jb6utiwqOF7F3bAuf1Td')\n",
    "init_notebook_mode(connected=True)\n",
    "\n",
    "import math\n",
    "from math import factorial\n",
    "#import Image\n",
    "import numpy as np\n",
    "from scipy import interpolate\n",
    "from scipy.optimize import curve_fit"
   ]
  },
  {
   "cell_type": "code",
   "execution_count": 2,
   "metadata": {},
   "outputs": [],
   "source": [
    "# os.chdir('/Users/changnianhan/Downloads/simulation/sts/')\n",
    "# os.chdir('/Users/changnianhan/OneDrive/Research/Platelets/results/')\n",
    "os.chdir('C:/Users/garyh/OneDrive/Research/Platelets/results/')\n",
    "# os.chdir('D:/OneDrive/Research/Platelets/results/')\n",
    "# os.listdir('.')"
   ]
  },
  {
   "cell_type": "code",
   "execution_count": 29,
   "metadata": {},
   "outputs": [
    {
     "name": "stdout",
     "output_type": "stream",
     "text": [
      "['f1-30', 'f2-30', 'f2-30new', 'p2-10', 'p1-30', 'p2-30', 'f2-30rmsd']\n"
     ]
    }
   ],
   "source": [
    "wb = xl.load_workbook(\"flip-spin30.xlsx\", data_only=True)\n",
    "# workbook.remove(workbook['test'])\n",
    "# workbook.remove(workbook['test2'])\n",
    "# workbook.save(\"test.xlsx\")\n",
    "print(wb.sheetnames)"
   ]
  },
  {
   "cell_type": "code",
   "execution_count": 4,
   "metadata": {},
   "outputs": [],
   "source": [
    "def move_avg(nums, window):\n",
    "    new_nums = []\n",
    "    for i in range(window,len(nums)+1):\n",
    "        new_nums.append(sum(nums[i-window:i])/window)\n",
    "    return new_nums\n",
    "\n",
    "def move_avg_time(nums, t, window):\n",
    "    new_nums = []\n",
    "    dt = w = 0\n",
    "    while dt < window:\n",
    "        w += 1\n",
    "        dt = t[w] - t[0]\n",
    "    print(w-1)\n",
    "#     new_nums.append(nums[0])\n",
    "    start = 0\n",
    "    for i in range(w-1,len(nums)):\n",
    "        dt = t[i] - t[start]\n",
    "        while dt > window:\n",
    "            start += 1\n",
    "            dt = t[i] - t[start]\n",
    "        new_nums.append(sum(nums[start:i+1])/(i-start+1))\n",
    "    return new_nums"
   ]
  },
  {
   "cell_type": "markdown",
   "metadata": {},
   "source": [
    "|**Metric**|Model Value|SI Value|SI unit|\n",
    "|:-------:|-------:|-------:|:--------|\n",
    "| **time** \t| 1 \t| 2.08|$\\mu s$\t|\n",
    "| **length** \t| 1  \t| 177.778|$nm$  \t|\n",
    "| **force**     | 1     | 8.132  |$10^{-2}pN$\n",
    "| **velocity** \t| 1 \t| 8.533   |$10^{-2}\\frac{m}{s}$|\n",
    "| **energy** \t| 1 \t| 1.446   |$10^{-8}pJ$|\n",
    "| **torque** \t| 1 \t| 1.446   |$10^{-20}N\\cdot m$|\n",
    "| **angular momentum** \t| 1 \t| 3.012 | $10^{-26}\\frac{kg\\cdot m^2}{s}$|\n",
    "| **angular velocity** \t| 1 \t| 0.48 | $\\mu s^{-1}$|\n",
    "| **inertia** \t| 1 \t| 6.274 | $10^{-32} kg\\cdot{m^2}$|"
   ]
  },
  {
   "cell_type": "markdown",
   "metadata": {},
   "source": [
    "total # of atoms 1231663"
   ]
  },
  {
   "cell_type": "markdown",
   "metadata": {},
   "source": [
    "### Jeffery's Orbit"
   ]
  },
  {
   "cell_type": "markdown",
   "metadata": {},
   "source": [
    "$\\theta$: angle  \n",
    "$\\gamma$: shear rate ($s^{-1}$)  \n",
    "$a, b$: minor and major axes\n",
    "\n",
    "|**Shear Stress**  ($dyne/cm^2$) |**Shear Rate**  ($us^{-1}$)|\n",
    "|:---:|---:|\n",
    "| 10 | 0.000933 \t|\n",
    "| 20 | 0.001866 \t|\n",
    "| 30 | 0.002798  \t|\n",
    "| 50 | 0.004664  |"
   ]
  },
  {
   "cell_type": "code",
   "execution_count": 5,
   "metadata": {},
   "outputs": [
    {
     "name": "stdout",
     "output_type": "stream",
     "text": [
      "0.8711122 1.7991133599999998 2.0653061224489795\n",
      "8.00947741942602\n"
     ]
    }
   ],
   "source": [
    "a,b = 4.9 * 0.177778, 10.12 * 0.177778\n",
    "print(a,b,b/a)\n",
    "gamma = 0.002798\n",
    "J_T = 2*np.pi*(a/b+b/a)/gamma\n",
    "print(J_T*gamma/2)"
   ]
  },
  {
   "cell_type": "markdown",
   "metadata": {},
   "source": [
    "\\begin{align*}\n",
    "\\theta &= \\tan^{-1}\\left(\\frac{b}{a}\\tan\\frac{ab\\gamma t}{a^2+b^2}\\right), \\qquad \\dot\\theta = \\frac{\\gamma}{a^2+b^2}\\left(b^2\\cos^2\\theta+a^2\\sin^2\\theta\\right) \\\\ \\\\\n",
    "\\theta &= \\tan^{-1}\\left(\\frac{b}{a}\\tan\\left(\\theta_0+\\frac{2\\pi t}{T_J}\\right)\\right) \\\\\n",
    "T_J &= \\frac{2\\pi}{\\gamma}\\left(\\frac{b}{a}+\\frac{a}{b}\\right)\n",
    "\\end{align*}\n",
    "where $T_J$ is the period.\n",
    "\n",
    "$$\\frac{d\\theta}{d\\dot\\gamma t}=\\frac{1}{a^2+b^2}\\left(b^2\\cos^2\\theta+a^2\\sin^2\\theta\\right)$$"
   ]
  },
  {
   "cell_type": "code",
   "execution_count": 6,
   "metadata": {},
   "outputs": [],
   "source": [
    "J_t = np.linspace(0,6050,3001)\n",
    "# a, b = 0.818, 1.78   #1, 2.4\n",
    "pivot = (a**2+b**2)*2*np.pi/(a*b*gamma*2)"
   ]
  },
  {
   "cell_type": "code",
   "execution_count": 7,
   "metadata": {},
   "outputs": [],
   "source": [
    "J_theta = np.arctan((b/a) * np.tan((-a*b*gamma*(J_t+pivot))/(a**2+b**2) + np.pi/2)) - np.pi/2\n",
    "# J_theta = -np.arctan(2.4 * np.tan((2*np.pi*J_t)/J_T + np.pi/2)) - np.pi/2\n",
    "J_omega = -2*0.002798 * (a**2 * (np.sin(J_theta+np.pi/2))**2 + b**2 * (np.cos(J_theta+np.pi/2))**2) / (a**2 + b**2)"
   ]
  },
  {
   "cell_type": "markdown",
   "metadata": {},
   "source": [
    "Converting to strain: "
   ]
  },
  {
   "cell_type": "code",
   "execution_count": 48,
   "metadata": {},
   "outputs": [],
   "source": [
    "x_theta = np.linspace(0,20,500)\n",
    "J_theta = np.arctan((b/a) * np.tan((-a*b*x_theta)/(a**2+b**2))) - np.pi/2\n",
    "# J_theta = -np.arctan(2.4 * np.tan((2*np.pi*J_t)/J_T + np.pi/2)) - np.pi/2\n",
    "J_omega = -2 * (a**2 * (np.sin(J_theta+np.pi/2))**2 + b**2 * (np.cos(J_theta+np.pi/2))**2) / (a**2 + b**2)"
   ]
  },
  {
   "cell_type": "code",
   "execution_count": 9,
   "metadata": {},
   "outputs": [],
   "source": [
    "pline = [644.8,1015.04,1258.4,1778.4,2159.04,2404.48,3265.6,3839.93,4089.28]\n",
    "pline = [i*gamma for i in pline]"
   ]
  },
  {
   "cell_type": "code",
   "execution_count": 49,
   "metadata": {},
   "outputs": [
    {
     "data": {
      "image/png": "[encoded data removed]",
      "text/plain": [
       "<Figure size 1400x500 with 2 Axes>"
      ]
     },
     "metadata": {},
     "output_type": "display_data"
    }
   ],
   "source": [
    "sns.set_style(\"ticks\") # darkgrid, whitegrid, dark, white, ticks\n",
    "sns.set_context(\"notebook\") # paper, notebook, talk, poster\n",
    "fig = pl.figure(figsize=(14, 5), dpi=100)\n",
    "ax1 = fig.add_subplot(121)\n",
    "# ax1.plot(J_t[1:], J_theta[1:], marker='', color='red', linewidth=1, alpha=1, label=r'$\\theta$')\n",
    "for i in range(len(pline)):\n",
    "    ax1.plot([pline[i]]*2, [-np.pi,0], marker='', color='lightgreen', linewidth=1, alpha=1, linestyle='--')\n",
    "ax1.plot(x_theta, J_theta, marker='', color='red', linewidth=1, alpha=1, label=r'$\\phi$')\n",
    "ax1.plot([J_T*gamma/4]*2, [-np.pi,0], marker='', color='black', linewidth=1, alpha=1, linestyle='--')\n",
    "ax1.legend(loc=3, ncol=1)\n",
    "ax1.set_xlim([0,J_T*gamma/2])\n",
    "ax1.set_xticks(range(0,10,2))\n",
    "ax1.set_yticks([0,-np.pi/2,-np.pi])\n",
    "ax1.set_yticklabels([0,r'$-\\frac{\\pi}{2}$',r'$-\\pi$'])\n",
    "ax1.set_xlabel(r'$\\dot\\gamma t$')\n",
    "ax1.set_ylabel(r'Angle $\\phi (\\dot\\gamma t)$')\n",
    "\n",
    "ax2 = fig.add_subplot(122)\n",
    "# ax2.plot(J_t[1:], J_omega[1:], marker='', color='blue', linewidth=1, alpha=1, label=r'$\\omega$')\n",
    "for i in range(len(pline)):\n",
    "    ax2.plot([pline[i]]*2, [-1.8,-0.2], marker='', color='lightgreen', linewidth=1, alpha=1, linestyle='--')\n",
    "ax2.plot(x_theta, J_omega, marker='', color='blue', linewidth=1, alpha=1, label=r'$\\omega$')\n",
    "ax2.plot([J_T*gamma/4]*2, [-1.8,-0.2], marker='', color='black', linewidth=1, alpha=1, linestyle='--')\n",
    "ax2.legend(loc=3, ncol=1)\n",
    "ax2.set_xlim([0,J_T*gamma/2])\n",
    "ax2.set_xticks(range(0,10,2))\n",
    "ax2.set_xlabel(r'$\\dot\\gamma t$')\n",
    "ax2.set_ylabel(r'Angular Velocity $\\omega (\\dot\\gamma t)$')\n",
    "\n",
    "# fig.subplots_adjust(bottom=0.1, right=0.8, top=0.9, wspace = 0.2, hspace = 0.2)\n",
    "fig.subplots_adjust(wspace = 0.3)\n",
    "fig.savefig('JO.png', dpi=200, bbox_inches='tight')"
   ]
  },
  {
   "cell_type": "markdown",
   "metadata": {},
   "source": [
    "## Flip 2 - Shear 30"
   ]
  },
  {
   "cell_type": "markdown",
   "metadata": {},
   "source": [
    "|**Phase**|1|2|3|4|5|\n",
    "|:---:|---:|---:|---:|---:|---:|\n",
    "| **STS Step** \t| 1640000-3190000 \t| 3190000-4080000\t| 4080000-4665000 \t| 4665000-5915000 \t| 5915000-  |\n",
    "| **ATS Step** \t| 1640000-2260000 \t| 2260000-2705000 \t| 2705000-3095000 \t| 3095000-4345000 \t| 4345000-  |\n",
    "| **STS ts** \t| 2($416ps$)  \t| 2  \t| 2  \t| 2  \t| 2  |\n",
    "| **ATS ts** \t| 5($1040ps$)  \t| 4($832ps$)  \t| 3($624ps$)  \t| 2($416ps$)  \t| 3($624ps$)  |\n",
    "| **Starting Time (us)** \t| 0  \t| 644.8  \t| 1015.04  \t| 1258.4  \t| 1778.4  |\n"
   ]
  },
  {
   "cell_type": "markdown",
   "metadata": {},
   "source": [
    "vertical position 1443.52"
   ]
  },
  {
   "cell_type": "markdown",
   "metadata": {},
   "source": [
    "### Kinetic Energy"
   ]
  },
  {
   "cell_type": "code",
   "execution_count": 30,
   "metadata": {},
   "outputs": [],
   "source": [
    "f2_30 = wb['f1-30']\n",
    "t_sts = [x.value*gamma for i,x in enumerate(f2_30['ad']) if x.value is not None and i > 0]\n",
    "E_t = [x.value*1231663*1.446 for i,x in enumerate(f2_30['l']) if x.value is not None and i > 0]\n",
    "E_r = [x.value*1231663*1.446 for i,x in enumerate(f2_30['m']) if x.value is not None and i > 0]"
   ]
  },
  {
   "cell_type": "code",
   "execution_count": null,
   "metadata": {},
   "outputs": [],
   "source": [
    "t_ats = [x.value for i,x in enumerate(f2_30['bh']) if x.value is not None and i > 0]\n",
    "E_ta = [x.value*1231663*1.446 for i,x in enumerate(f2_30['ap']) if x.value is not None and i > 0]\n",
    "E_ra = [x.value*1231663*1.446 for i,x in enumerate(f2_30['aq']) if x.value is not None and i > 0]\n",
    "print(len(t_ats), len(E_ta), len(E_ra))\n",
    "E_ta = move_avg_time(E_ta, t_ats, 50)\n",
    "E_ra = move_avg_time(E_ra, t_ats, 50)\n",
    "t_ats = [i*gamma for i in t_ats]"
   ]
  },
  {
   "cell_type": "code",
   "execution_count": null,
   "metadata": {},
   "outputs": [],
   "source": [
    "t_ats = t_ats[961:]\n",
    "print(len(t_ats), len(E_ta), len(E_ra))"
   ]
  },
  {
   "cell_type": "markdown",
   "metadata": {},
   "source": [
    "|**Case**|1|2|3|4|5|\n",
    "|:---:|---:|---:|---:|---:|---:|\n",
    "| **Step** \t| 24200 \t| 48000 \t| 72200 \t| 120200 \t| 240400  |\n",
    "| **Moving Window** \t| 122  \t| 241  \t| 362  \t| 602  \t| 1203  |\n",
    "| **Time (us)** \t| 10.0672  \t| 19.968  \t| 30.0352  \t| 50.0032  \t| 100.0064  |\n"
   ]
  },
  {
   "cell_type": "code",
   "execution_count": 31,
   "metadata": {},
   "outputs": [],
   "source": [
    "w = 602\n",
    "E_t = move_avg(E_t, w)\n",
    "E_r = move_avg(E_r, w)"
   ]
  },
  {
   "cell_type": "code",
   "execution_count": null,
   "metadata": {},
   "outputs": [],
   "source": [
    "phase_line0 = go.Scatter(x=[644.8,644.8], y=[1,5], mode='lines', line=dict(color='lightgreen', dash='dash'), showlegend=False)\n",
    "phase_line1 = go.Scatter(x=[1015.04,1015.04], y=[1,5], mode='lines', line=dict(color='lightgreen', dash='dash'), showlegend=False)\n",
    "phase_line2 = go.Scatter(x=[1258.4,1258.4], y=[1,5], mode='lines', line=dict(color='lightgreen', dash='dash'), showlegend=False)\n",
    "phase_line3 = go.Scatter(x=[1778.4,1778.4], y=[1,5], mode='lines', line=dict(color='lightgreen', dash='dash'), showlegend=False)\n",
    "phase_line4 = go.Scatter(x=[2159.04,2159.04], y=[1,5], mode='lines', line=dict(color='lightgreen', dash='dash'), showlegend=False)\n",
    "phase_line5 = go.Scatter(x=[2404.48,2404.48], y=[1,5], mode='lines', line=dict(color='lightgreen', dash='dash'), showlegend=False)\n",
    "# phase_line6 = go.Scatter(x=[3265.6,3265.6], y=[1,5], mode='lines', line=dict(color='lightgreen', dash='dash'), showlegend=False)\n",
    "\n",
    "trace0 = go.Scatter(\n",
    "    x = t_sts[w-1:],\n",
    "    y = [i*1.446 for i in E_t],\n",
    "    mode = 'lines',\n",
    "    line = dict(color = 'yellowgreen', dash = 'dot'),\n",
    "    name = r'$E_{tran}^{sts}$'\n",
    ")\n",
    "trace1 = go.Scatter(\n",
    "    x = t_sts[w-1:],\n",
    "    y = [i*1.446 for i in E_r],\n",
    "    mode = 'lines',\n",
    "    line = dict(color = 'lightblue', dash = 'dot'),\n",
    "    name = r'$E_{rot}^{sts}$'\n",
    ")\n",
    "tracea = go.Scatter(\n",
    "    x = t_ats,\n",
    "    y = [i*1.446 for i in E_ta],\n",
    "    mode = 'lines',\n",
    "    line = dict(color = 'darkgreen'),\n",
    "    name = r'$E_{tran}^{ats}$'\n",
    ")\n",
    "traceb = go.Scatter(\n",
    "    x = t_ats,\n",
    "    y = [i*1.446 for i in E_ra],\n",
    "    mode = 'lines',\n",
    "    line = dict(color = 'darkblue'),\n",
    "    name = r'$E_{rot}^{ats}$'\n",
    ")\n",
    "# trace2 = go.Scatter(\n",
    "#     x = t_ats5[961:],\n",
    "#     y = [i*1.446 for i in E_t5],\n",
    "#     mode = 'lines',\n",
    "#     line = dict(color = 'purple'),\n",
    "#     name = r'$E_{tran5}$'\n",
    "# )\n",
    "# trace3 = go.Scatter(\n",
    "#     x = t_ats5[w-1:],\n",
    "#     y = [i*1.446 for i in E_r5],\n",
    "#     mode = 'lines',\n",
    "#     line = dict(color = 'cyan'),\n",
    "#     name = r'$E_{rot5}$'\n",
    "# )\n",
    "# trace4 = go.Scatter(\n",
    "#     x = t_ats4[w-1:],\n",
    "#     y = [i*1.446 for i in E_t4],\n",
    "#     mode = 'lines',\n",
    "#     line = dict(color = 'red'),\n",
    "#     name = r'$E_{tran4}$'\n",
    "# )\n",
    "# trace5 = go.Scatter(\n",
    "#     x = t_ats4[w-1:],\n",
    "#     y = [i*1.446 for i in E_r4],\n",
    "#     mode = 'lines',\n",
    "#     line = dict(color = 'orange'),\n",
    "#     name = r'$E_{rot4}$'\n",
    "# )\n",
    "# trace6 = go.Scatter(\n",
    "#     x = t_ats3[1602:],\n",
    "#     y = [i*1.446 for i in E_t3],\n",
    "#     mode = 'lines',\n",
    "#     line = dict(color = 'yellow'),\n",
    "#     name = r'$E_{tran3}$'\n",
    "# )\n",
    "# trace7 = go.Scatter(\n",
    "#     x = t_ats3[1602:],\n",
    "#     y = [i*1.446 for i in E_r3],\n",
    "#     mode = 'lines',\n",
    "#     line = dict(color = 'black'),\n",
    "#     name = r'$E_{rot3}$'\n",
    "# )"
   ]
  },
  {
   "cell_type": "code",
   "execution_count": null,
   "metadata": {
    "scrolled": false
   },
   "outputs": [],
   "source": [
    "layout = go.Layout(\n",
    "    xaxis=dict(\n",
    "#         range=[0, 4000],\n",
    "        ticks = 'inside',\n",
    "#         dtick = 6,\n",
    "        mirror = 'ticks',\n",
    "        title=r'$\\mbox{Simulated Time } (\\mu s)$',\n",
    "        showline=True,\n",
    "        zeroline=False,\n",
    "        showticklabels=True,\n",
    "        showgrid=True,\n",
    "    ),\n",
    "    yaxis=dict(\n",
    "        range=[1.8, 4.6],\n",
    "        title=r'$\\mbox{Kinetic Energy }(10^{-8}pJ)$',\n",
    "        ticks = 'inside',\n",
    "        mirror = 'ticks',\n",
    "#         dtick = 0.01,\n",
    "        showline=True,\n",
    "        zeroline=False,\n",
    "        showticklabels=True,\n",
    "        showgrid=True\n",
    "    ),\n",
    "    legend=dict(\n",
    "        x=0.02,\n",
    "        y=0.97,\n",
    "        traceorder='normal',\n",
    "        font=dict(color='black', size=16),\n",
    "#         bgcolor='#E2E2E2',\n",
    "#         bordercolor='black',\n",
    "        borderwidth=1\n",
    "    ),\n",
    "    showlegend=True,\n",
    "    autosize=False,\n",
    "    width=700,\n",
    "    height=300,\n",
    "    margin=go.layout.Margin(\n",
    "        l=60,\n",
    "        r=20,\n",
    "        b=40,\n",
    "        t=20,\n",
    "        pad=0\n",
    "    )\n",
    ")\n",
    "fig = go.Figure(data=[phase_line0,phase_line1,phase_line2,phase_line3,phase_line4,phase_line5,\n",
    "                      trace0,trace1,tracea,traceb], layout=layout)\n",
    "# py.iplot(fig, filename='RMSDX')\n",
    "iplot(fig)"
   ]
  },
  {
   "cell_type": "code",
   "execution_count": null,
   "metadata": {},
   "outputs": [],
   "source": [
    "pio.write_image(fig, 'E.png', format='png', scale=5)\n",
    "print(\"Done!\")"
   ]
  },
  {
   "cell_type": "code",
   "execution_count": 38,
   "metadata": {
    "scrolled": false
   },
   "outputs": [
    {
     "data": {
      "text/plain": [
       "Text(0, 0.5, 'Translational Energy $(10^{-8}\\\\ pJ)$')"
      ]
     },
     "execution_count": 38,
     "metadata": {},
     "output_type": "execute_result"
    },
    {
     "data": {
      "image/png": "[encoded data removed]",
      "text/plain": [
       "<Figure size 1200x500 with 2 Axes>"
      ]
     },
     "metadata": {},
     "output_type": "display_data"
    }
   ],
   "source": [
    "sns.set_style(\"ticks\") # darkgrid, whitegrid, dark, white, ticks\n",
    "sns.set_context(\"notebook\") # paper, notebook, talk, poster\n",
    "fig = pl.figure(figsize=(12, 5), dpi=100)\n",
    "ax1 = fig.add_subplot(121)\n",
    "# for i in range(len(pline)):\n",
    "#     ax1.plot([pline[i]]*2, [1,5], color='limegreen', linewidth=1, alpha=1, linestyle=':')\n",
    "\n",
    "# ax1.plot(t_sts[w-1:], E_t, linestyle='--', color='yellowgreen', linewidth=1, alpha=0.7, label=r'$E^{sts}_{tr}$')\n",
    "ax1.plot(t_sts[w-1:], E_r, linestyle='--', color='lightskyblue', linewidth=1, alpha=1, label=r'$E^{sts}_{ro}$')\n",
    "\n",
    "# ax1.plot(t_ats, E_ta, linestyle='-', color='darkgreen', linewidth=1, alpha=1, label=r'$E^{ats}_{tr}$')\n",
    "# ax1.plot(t_ats, E_ra, linestyle='-', color='darkblue', linewidth=1, alpha=1, label=r'$E^{ats}_{ro}$')\n",
    "\n",
    "ax1.legend(loc=3, ncol=1, fontsize='large')\n",
    "ax1.set_xlim([0,8])\n",
    "# ax1.set_xticks(range(0,3001,1000))\n",
    "ax1.set_ylim([1.8,4.7])\n",
    "# ax1.set_yticks([-1.8+i*0.2 for i in range(11)])\n",
    "# ax1.set_yticks([0,-np.pi/2,-np.pi])\n",
    "# ax1.set_yticklabels([0,r'$-\\frac{\\pi}{2}$',r'$-\\pi$'])\n",
    "ax1.set_xlabel(r'$\\dot\\gamma t$')\n",
    "ax1.set_ylabel(r'Rotational Energy $(10^{-8}\\ pJ)$')\n",
    "\n",
    "ax2 = fig.add_subplot(122)\n",
    "ax2.plot(t_sts[w-1:], E_t, linestyle='--', color='yellowgreen', linewidth=1, alpha=0.7, label=r'$E^{sts}_{tr}$')\n",
    "# ax2.plot(J_t[1:], J_omega[1:], marker='', color='blue', linewidth=1, alpha=1, label=r'$\\omega$')\n",
    "ax2.legend(loc=3, ncol=1,fontsize='large')\n",
    "ax2.set_xlim([0,8])\n",
    "ax2.set_ylim([50,65])\n",
    "# ax2.set_xticks(range(0,3001,500))\n",
    "ax2.set_xlabel(r'$\\dot\\gamma t$')\n",
    "ax2.set_ylabel(r'Translational Energy $(10^{-8}\\ pJ)$')\n",
    "\n",
    "# fig.subplots_adjust(bottom=0.1, right=0.8, top=0.9, wspace = 0.2, hspace = 0.2)\n",
    "# fig.subplots_adjust(wspace = 0.3)"
   ]
  },
  {
   "cell_type": "code",
   "execution_count": 39,
   "metadata": {},
   "outputs": [],
   "source": [
    "fig.savefig('f1-30E.png', dpi=200, bbox_inches='tight')"
   ]
  },
  {
   "cell_type": "markdown",
   "metadata": {},
   "source": [
    "### Angular Velocity"
   ]
  },
  {
   "cell_type": "code",
   "execution_count": 40,
   "metadata": {},
   "outputs": [],
   "source": [
    "f2_30 = wb['f1-30']\n",
    "t_sts = [x.value*gamma for i,x in enumerate(f2_30['ad']) if x.value is not None and i > 0]\n",
    "# body\n",
    "# w1 = [x.value*1231663 for x in f2_30['n'] if x.value is not None]\n",
    "# w2 = [x.value*1231663 for x in f2_30['o'] if x.value is not None]\n",
    "# w3 = [x.value*1231663 for x in f2_30['p'] if x.value is not None]\n",
    "# space\n",
    "w1 = [x.value/gamma for i,x in enumerate(f2_30['u']) if x.value is not None and i > 0]\n",
    "w2 = [x.value/gamma for i,x in enumerate(f2_30['v']) if x.value is not None and i > 0]\n",
    "w3 = [x.value/gamma for i,x in enumerate(f2_30['w']) if x.value is not None and i > 0]"
   ]
  },
  {
   "cell_type": "code",
   "execution_count": null,
   "metadata": {},
   "outputs": [],
   "source": [
    "# body reference only\n",
    "# 1605.76 2437.76\n",
    "\n",
    "print(len(w1),len(t_sts))\n",
    "for i in range(19260,len(w1)):\n",
    "    if 1605.76 < t_sts[i] <= 2437.76:\n",
    "        w1[i],w2[i] = -w2[i],w1[i]\n",
    "    elif t_sts[i] > 2437.76:\n",
    "        w1[i],w2[i] = -w1[i],-w2[i]"
   ]
  },
  {
   "cell_type": "code",
   "execution_count": 41,
   "metadata": {},
   "outputs": [],
   "source": [
    "w = 602\n",
    "w1 = move_avg(w1, w)\n",
    "w2 = move_avg(w2, w)\n",
    "w3 = move_avg(w3, w)"
   ]
  },
  {
   "cell_type": "code",
   "execution_count": null,
   "metadata": {},
   "outputs": [],
   "source": [
    "t_ats = [x.value*gamma for i,x in enumerate(f2_30['bh']) if x.value is not None and i > 0]\n",
    "# body\n",
    "# wa1 = [x.value*1231663 for x in f2_30['ar'] if x.value is not None]\n",
    "# wa2 = [x.value*1231663 for x in f2_30['as'] if x.value is not None]\n",
    "# wa3 = [x.value*1231663 for x in f2_30['at'] if x.value is not None]\n",
    "# space\n",
    "wa1 = [x.value/gamma for i,x in enumerate(f2_30['ay']) if x.value is not None and i > 0]\n",
    "wa2 = [x.value/gamma for i,x in enumerate(f2_30['az']) if x.value is not None and i > 0]\n",
    "wa3 = [x.value/gamma for i,x in enumerate(f2_30['ba']) if x.value is not None and i > 0]\n",
    "print(len(t_ats), len(wa1), len(wa2), len(wa3))"
   ]
  },
  {
   "cell_type": "code",
   "execution_count": null,
   "metadata": {},
   "outputs": [],
   "source": [
    "# body reference only\n",
    "# 1258.4 1978.08\n",
    "\n",
    "for i in range(len(wa1)):\n",
    "    if 1978.08 >= t_ats[i] > 1258.4:\n",
    "        wa1[i],wa2[i] = -wa2[i],wa1[i]\n",
    "    elif t_ats[i] > 1978.08:\n",
    "        wa1[i],wa2[i] = -wa1[i],-wa2[i]"
   ]
  },
  {
   "cell_type": "code",
   "execution_count": null,
   "metadata": {
    "scrolled": true
   },
   "outputs": [],
   "source": [
    "wa1 = move_avg_time(wa1, t_ats, 50*gamma)\n",
    "wa2 = move_avg_time(wa2, t_ats, 50*gamma)\n",
    "wa3 = move_avg_time(wa3, t_ats, 50*gamma)"
   ]
  },
  {
   "cell_type": "code",
   "execution_count": null,
   "metadata": {},
   "outputs": [],
   "source": [
    "t_ats = t_ats[961:]\n",
    "print(len(t_ats), len(wa1))"
   ]
  },
  {
   "cell_type": "code",
   "execution_count": null,
   "metadata": {},
   "outputs": [],
   "source": [
    "p0 = go.Scatter(x=[644.8,644.8], y=[-0.1,0.1], mode='lines', line=dict(color='lightgreen', dash='dash'), showlegend=False)\n",
    "p1 = go.Scatter(x=[1015.04,1015.04], y=[-0.1,0.1], mode='lines', line=dict(color='lightgreen', dash='dash'), showlegend=False)\n",
    "p2 = go.Scatter(x=[1258.4,1258.4], y=[-0.1,0.1], mode='lines', line=dict(color='lightgreen', dash='dash'), showlegend=False)\n",
    "p3 = go.Scatter(x=[1778.4,1778.4], y=[-0.1,0.1], mode='lines', line=dict(color='lightgreen', dash='dash'), showlegend=False)\n",
    "p4 = go.Scatter(x=[2159.04,2159.04], y=[-0.1,0.1], mode='lines', line=dict(color='lightgreen', dash='dash'), showlegend=False)\n",
    "p5 = go.Scatter(x=[2404.48,2404.48], y=[-0.1,0.1], mode='lines', line=dict(color='lightgreen', dash='dash'), showlegend=False)\n",
    "# p6 = go.Scatter(x=[3265.6,3265.6], y=[-0.1,0.1], mode='lines', line=dict(color='lightgreen', dash='dash'), showlegend=False)\n",
    "\n",
    "data1 = go.Scatter(\n",
    "    x = t_sts[w-1:],\n",
    "    y = w1,\n",
    "    mode = 'lines',\n",
    "    line = dict(color = 'yellowgreen', dash = 'dot'),\n",
    "    legendgroup = 'sts',\n",
    "#     name = r'$\\omega_{\\tilde{x}}^{sts}$'\n",
    "    name = r'$\\omega_x^{sts}$'\n",
    ")\n",
    "data2 = go.Scatter(\n",
    "    x = t_sts[w-1:],\n",
    "    y = w2,\n",
    "    mode = 'lines',\n",
    "    line = dict(color = 'lightblue', dash = 'dot'),\n",
    "    legendgroup = 'sts',\n",
    "#     name = r'$\\omega_{\\tilde{y}}^{sts}$'\n",
    "    name = r'$\\omega_y^{sts}$'\n",
    ")\n",
    "data3 = go.Scatter(\n",
    "    x = t_sts[w-1:],\n",
    "    y = w3,\n",
    "    mode = 'lines',\n",
    "    line = dict(color = 'red', dash = 'dot'),\n",
    "    legendgroup = 'sts',\n",
    "#     name = r'$\\omega_{\\tilde{z}}^{sts}$'\n",
    "    name = r'$\\omega_z^{sts}$'\n",
    ")\n",
    "dataa = go.Scatter(\n",
    "    x = t_ats,\n",
    "    y = wa1,\n",
    "    mode = 'lines',\n",
    "    line = dict(color = 'darkgreen'),\n",
    "    legendgroup = 'ats',\n",
    "#     name = r'$\\omega_{\\tilde{x}}^{ats}$'\n",
    "    name = r'$\\omega_x^{ats}$'\n",
    ")\n",
    "datab = go.Scatter(\n",
    "    x = t_ats,\n",
    "    y = wa2,\n",
    "    mode = 'lines',\n",
    "    line = dict(color = 'darkblue'),\n",
    "    legendgroup = 'ats',\n",
    "#     name = r'$\\omega_{\\tilde{y}}^{ats}$'\n",
    "    name = r'$\\omega_y^{ats}$'\n",
    ")\n",
    "datac = go.Scatter(\n",
    "    x = t_ats,\n",
    "    y = wa3,\n",
    "    mode = 'lines',\n",
    "    line = dict(color = 'darkred'),\n",
    "    legendgroup = 'ats',\n",
    "#     name = r'$\\omega_{\\tilde{z}}^{ats}$'\n",
    "    name = r'$\\omega_z^{ats}$'\n",
    ")\n",
    "# dataJO = go.Scatter(\n",
    "#     x = J_t[1:],\n",
    "#     y = J_omega[1:],\n",
    "#     mode = 'lines',\n",
    "#     line = dict(color = 'cyan',dash='dash'),\n",
    "#     name = r'$\\omega_J$'\n",
    "# )"
   ]
  },
  {
   "cell_type": "code",
   "execution_count": null,
   "metadata": {
    "scrolled": false
   },
   "outputs": [],
   "source": [
    "layout = go.Layout(\n",
    "    xaxis=dict(\n",
    "#         range=[0, 4000],\n",
    "        ticks = 'inside',\n",
    "#         dtick = 6,\n",
    "        mirror = 'ticks',\n",
    "        title=r'$\\mbox{Simulated Time } (\\mu s)$',\n",
    "        showline=True,\n",
    "        zeroline=False,\n",
    "        showticklabels=True,\n",
    "        showgrid=True,\n",
    "    ),\n",
    "    yaxis=dict(\n",
    "        range=[-0.005, 0.0008],\n",
    "        title=r'$\\text{Angular Velocity } (\\mu s^{-1})$',\n",
    "        ticks = 'inside',\n",
    "        mirror = 'ticks',\n",
    "#         dtick = 0.01,\n",
    "        showline=True,\n",
    "        zeroline=False,\n",
    "        showticklabels=True,\n",
    "        showgrid=True\n",
    "    ),\n",
    "    legend=dict(\n",
    "        x=0.02,\n",
    "        y=0.03,\n",
    "        traceorder='normal',\n",
    "        font=dict(color='black', size=16),\n",
    "#         orientation=\"h\",\n",
    "#         bgcolor='#E2E2E2',\n",
    "#         bordercolor='black',\n",
    "        borderwidth=1\n",
    "    ),\n",
    "    showlegend=True,\n",
    "    autosize=False,\n",
    "    width=700,\n",
    "    height=300,\n",
    "    margin=go.layout.Margin(\n",
    "        l=80,\n",
    "        r=20,\n",
    "        b=40,\n",
    "        t=20,\n",
    "        pad=0\n",
    "    )\n",
    ")\n",
    "fig = go.Figure(data=[phase_line0, phase_line1, phase_line2,phase_line3,phase_line4,\n",
    "                      phase_line5,\n",
    "                      data1, data2, data3, dataa, datab, datac], layout=layout)\n",
    "iplot(fig)"
   ]
  },
  {
   "cell_type": "code",
   "execution_count": null,
   "metadata": {},
   "outputs": [],
   "source": [
    "pio.write_image(fig, 'omega_space1.png', format='png', scale=5)\n",
    "print(\"Done!\")"
   ]
  },
  {
   "cell_type": "code",
   "execution_count": null,
   "metadata": {},
   "outputs": [],
   "source": [
    "def func(a,b,t):\n",
    "    rt = np.arctan((b/a) * np.tan((-a*b*t)/(a**2+b**2) + np.pi/2)) - np.pi/2\n",
    "    return (b**2 * np.cos(rt)**2 + a**2 * np.sin(rt)**2)/(a**2 + b**2)\n",
    "popt, pcov = curve_fit(func, t_sts[w-1:], w3)\n",
    "print(popt)"
   ]
  },
  {
   "cell_type": "markdown",
   "metadata": {},
   "source": [
    "seaborn plot:"
   ]
  },
  {
   "cell_type": "code",
   "execution_count": 53,
   "metadata": {},
   "outputs": [
    {
     "data": {
      "text/plain": [
       "Text(0, 0.5, 'Angular Velocity $\\\\omega (\\\\dot\\\\gamma t)$')"
      ]
     },
     "execution_count": 53,
     "metadata": {},
     "output_type": "execute_result"
    },
    {
     "data": {
      "image/png": "[encoded data removed]",
      "text/plain": [
       "<Figure size 600x500 with 1 Axes>"
      ]
     },
     "metadata": {},
     "output_type": "display_data"
    }
   ],
   "source": [
    "sns.set_style(\"ticks\") # darkgrid, whitegrid, dark, white, ticks\n",
    "sns.set_context(\"notebook\") # paper, notebook, talk, poster\n",
    "fig = pl.figure(figsize=(6, 5), dpi=100)\n",
    "ax1 = fig.add_subplot(111)\n",
    "# for i in range(len(pline)):\n",
    "#     ax1.plot([pline[i]]*2, [-1.8,0.25], color='lightgreen', linewidth=1, alpha=1, linestyle='--')\n",
    "\n",
    "# ax1.plot([644.8,644.8], [-0.1,0.1], linestyle='-.', color='lightgreen', linewidth=1, alpha=1)\n",
    "# ax1.plot([1015.04,1015.04], [-0.1,0.1], linestyle='-.', color='lightgreen', linewidth=1, alpha=1)\n",
    "# ax1.plot([1258.4,1258.4], [-0.1,0.1], linestyle='-.', color='lightgreen', linewidth=1, alpha=1)\n",
    "# ax1.plot([1778.4,1778.4], [-0.1,0.1], linestyle='-.', color='lightgreen', linewidth=1, alpha=1)\n",
    "# ax1.plot([2159.04,2159.04], [-0.1,0.1], linestyle='-.', color='lightgreen', linewidth=1, alpha=1)\n",
    "\n",
    "ax1.plot(t_sts[w-1:], w1, linestyle='--', markersize=0.01, color='yellowgreen', linewidth=1, alpha=0.7, label=r'$\\omega_{x}^{sts}$')\n",
    "ax1.plot(t_sts[w-1:], w2, linestyle='--', markersize=0.01, color='lightblue', linewidth=1, alpha=1, label=r'$\\omega_{y}^{sts}$')\n",
    "ax1.plot(t_sts[w-1:], w3, linestyle='--', markersize=0.01, color='red', linewidth=1, alpha=0.5, label=r'$\\omega_{z}^{sts}$')\n",
    "ax1.plot([i for i in x_theta], J_omega, linestyle='--', markersize=1, color='cyan', linewidth=1, alpha=1, label=r'$\\omega^J$')\n",
    "# ax1.plot(t_ats, wa1, linestyle='-', color='darkgreen', linewidth=1, alpha=1, label=r'$\\omega_{x}^{ats}$')\n",
    "# ax1.plot(t_ats, wa2, linestyle='-', color='darkblue', linewidth=1, alpha=1, label=r'$\\omega_{y}^{ats}$')\n",
    "# ax1.plot(t_ats, wa3, linestyle='-', color='darkred', linewidth=1, alpha=1, label=r'$\\omega_{z}^{ats}$')\n",
    "\n",
    "ax1.plot([0,15], [0,0], color='black', linewidth=1, alpha=0.5, linestyle='--')\n",
    "# ax1.plot(t_sts[w-1], func(t_sts[w-1], *popt), 'k--',)\n",
    "\n",
    "ax1.legend(loc=8, ncol=1, fontsize='large')\n",
    "ax1.set_xlim([0,8])\n",
    "# ax1.set_xticks(range(0,3001,1000))\n",
    "# ax1.set_ylim([-1.8,0.25])\n",
    "ax1.set_yticks([-1.8+i*0.2 for i in range(11)])\n",
    "# ax1.set_yticks([0,-np.pi/2,-np.pi])\n",
    "# ax1.set_yticklabels([0,r'$-\\frac{\\pi}{2}$',r'$-\\pi$'])\n",
    "ax1.set_xlabel(r'$\\dot\\gamma t$')\n",
    "ax1.set_ylabel(r'Angular Velocity $\\omega (\\dot\\gamma t)$')\n",
    "\n",
    "# ax2 = fig.add_subplot(122)\n",
    "# ax2.plot(J_t[1:], J_omega[1:], marker='', color='blue', linewidth=1, alpha=1, label=r'$\\omega$')\n",
    "# ax2.legend(loc=3, ncol=1)\n",
    "# ax2.set_xlim([0,3150])\n",
    "# ax2.set_xticks(range(0,3001,500))\n",
    "# ax2.set_xlabel(r'Time ($\\mu s$)')\n",
    "# ax2.set_ylabel(r'Angular Velocity ($\\mu s^{-1}$)')\n",
    "\n",
    "# fig.subplots_adjust(bottom=0.1, right=0.8, top=0.9, wspace = 0.2, hspace = 0.2)\n",
    "# fig.subplots_adjust(wspace = 0.3)"
   ]
  },
  {
   "cell_type": "code",
   "execution_count": 54,
   "metadata": {},
   "outputs": [],
   "source": [
    "fig.savefig('f1-30omega_space.png', dpi=200, bbox_inches='tight')"
   ]
  },
  {
   "cell_type": "markdown",
   "metadata": {},
   "source": [
    "### CFL"
   ]
  },
  {
   "cell_type": "code",
   "execution_count": null,
   "metadata": {},
   "outputs": [],
   "source": [
    "a,b,gamma"
   ]
  },
  {
   "cell_type": "code",
   "execution_count": null,
   "metadata": {},
   "outputs": [],
   "source": [
    "ii,ts = 0, [0.936*gamma, 0.832*gamma, 0.624*gamma, 0.416*gamma, 0.624*gamma, 0.832*gamma, 0.936*gamma, 0.832*gamma, 0.624*gamma, 0.416*gamma]\n",
    "newpline = [2, 2.55, 3.3, 4.8, 5.55, 6.1, 8.1]\n",
    "# newpline = pline\n",
    "www_ats, www_ave = [], []\n",
    "ss,count = 0,0\n",
    "for i in range(len(wa3)):\n",
    "    if t_ats[i] >= newpline[ii]:\n",
    "        ii += 1\n",
    "        www_ave.append(ss/count)\n",
    "        count,ss = 0, 0\n",
    "        if ii == 7: break\n",
    "    www_ats.append(-wa3[i]*1.83*ts[ii])\n",
    "    ss += www_ats[-1]\n",
    "    count += 1\n",
    "\n",
    "www_ats = move_avg(www_ats, 1000)\n",
    "\n",
    "ttt_ave,temp = [0],[www_ave[0]]\n",
    "for i in range(len(newpline)):\n",
    "    ttt_ave.extend([newpline[i]]*2)\n",
    "    temp.extend(www_ave[i:i+2])\n",
    "\n",
    "www_ave = temp\n",
    "ttt_ave = ttt_ave[:-1]\n",
    "\n",
    "www, w_ave = [], []\n",
    "ss,count,ii = 0,0,0\n",
    "for i in range(len(w3)):\n",
    "    if t_sts[w-1+i] >= newpline[ii]:\n",
    "        ii += 1\n",
    "        w_ave.extend([ss/count]*2)\n",
    "        count,ss = 0, 0\n",
    "        if ii == 7: break\n",
    "    ss += -w3[i]*1.83*gamma*0.416\n",
    "    count += 1"
   ]
  },
  {
   "cell_type": "code",
   "execution_count": null,
   "metadata": {
    "scrolled": false
   },
   "outputs": [],
   "source": [
    "sns.set_style(\"ticks\") # darkgrid, whitegrid, dark, white, ticks\n",
    "sns.set_context(\"notebook\") # paper, notebook, talk, poster\n",
    "fig = pl.figure(figsize=(14, 6), dpi=100)\n",
    "ax1 = fig.add_subplot(122)\n",
    "# ax1.plot([i for i in x_theta], J_omega, linestyle='--', markersize=1, color='cyan', linewidth=1, alpha=1, label=r'$\\omega_J$')\n",
    "for i in range(len(newpline)):\n",
    "    ax1.plot([newpline[i]]*2, [0,6], color='lightgreen', linewidth=1, alpha=1, linestyle='--')\n",
    "ax1.plot(ttt_ave, [i*1000 for i in w_ave], marker='.', markersize=0.01, color='red', linewidth=1.5, alpha=0.5, label=r'$\\Delta P^{sts}$')\n",
    "ax1.plot(ttt_ave, [i*1000 for i in www_ave], linestyle='-', color='darkred', linewidth=1.5, alpha=1, label=r'$\\Delta P^{ats}$')\n",
    "\n",
    "# ax1.plot([0,15], [0,0], color='black', linewidth=1, alpha=0.5, linestyle='--')\n",
    "# ax1.plot(t_sts[w-1], func(t_sts[w-1], *popt), 'k--',)\n",
    "\n",
    "ax1.legend(loc=2, ncol=1, fontsize='large')\n",
    "ax1.set_xlim([0,8.1])\n",
    "# ax1.set_xticks(range(0,3001,1000))\n",
    "ax1.set_ylim([0,6])\n",
    "# ax1.set_yticks([-1.8+i*0.2 for i in range(11)])\n",
    "# ax1.set_yticks([0,-np.pi/2,-np.pi])\n",
    "# ax1.set_yticklabels([0,r'$-\\frac{\\pi}{2}$',r'$-\\pi$'])\n",
    "ax1.set_xlabel(r'$\\dot\\gamma t$')\n",
    "ax1.set_ylabel(r'$\\Delta P\\ (pm)$')\n",
    "\n",
    "ax2 = fig.add_subplot(121)\n",
    "for i in range(len(newpline)):\n",
    "    ax2.plot([newpline[i]]*2, [0,6], color='lightgreen', linewidth=1, alpha=1, linestyle='--')\n",
    "ax2.plot(t_sts[w+400-2:], move_avg([-i*1.83*gamma*416 for i in w3],400), marker='.', markersize=0.01, color='red', linewidth=1.5, alpha=0.5, label=r'$\\Delta P^{sts}$')\n",
    "ax2.plot(t_ats[1000-1:len(www_ats)+999], [i*1000 for i in www_ats], linestyle='-', color='darkred', linewidth=1.5, alpha=1, label=r'$\\Delta P^{ats}$')\n",
    "\n",
    "ax2.legend(loc=2, ncol=1, fontsize='large')\n",
    "ax2.set_xlim([0,8.1])\n",
    "ax2.set_ylim([0,6])\n",
    "# ax2.set_xticks(range(0,3001,500))\n",
    "ax2.set_xlabel(r'$\\dot\\gamma t$')\n",
    "ax2.set_ylabel(r'$\\Delta P\\ (pm)$')\n",
    "\n",
    "# fig.subplots_adjust(bottom=0.1, right=0.8, top=0.9, wspace = 0.2, hspace = 0.2)\n",
    "# fig.subplots_adjust(wspace = 0.3)"
   ]
  },
  {
   "cell_type": "code",
   "execution_count": null,
   "metadata": {},
   "outputs": [],
   "source": [
    "fig.savefig('cfl.png', dpi=200, bbox_inches='tight')"
   ]
  },
  {
   "cell_type": "markdown",
   "metadata": {},
   "source": [
    "### Torque"
   ]
  },
  {
   "cell_type": "code",
   "execution_count": null,
   "metadata": {},
   "outputs": [],
   "source": [
    "f2_30 = wb['f2-30']\n",
    "# t_sts = [x.value for x in f2_30['ad'] if x.value is not None]\n",
    "# t_sts = t_sts[1:]\n",
    "tq1,tq2,tq3,t_sts = [],[],[],[]\n",
    "# cells = f2_30['aa':'ad']\n",
    "for i in range(9333, f2_30.max_row+1):\n",
    "    tq1.append(f2_30.cell(row=i,column=27).value)\n",
    "    tq2.append(f2_30.cell(row=i,column=28).value)\n",
    "    tq3.append(f2_30.cell(row=i,column=29).value)\n",
    "    t_sts.append(f2_30.cell(row=i,column=30).value)\n",
    "# print(len(tq1),len(t_sts))\n",
    "w=1"
   ]
  },
  {
   "cell_type": "code",
   "execution_count": null,
   "metadata": {},
   "outputs": [],
   "source": [
    "tq1 = [x.value for x in f2_30['aa'] if x.value is not None]\n",
    "tq2 = [x.value for x in f2_30['ab'] if x.value is not None]\n",
    "tq3 = [x.value for x in f2_30['ac'] if x.value is not None]\n",
    "# w1 = [x.value for x in f2_30['u'] if x.value is not None]\n",
    "# w2 = [x.value for x in f2_30['v'] if x.value is not None]\n",
    "# w3 = [x.value for x in f2_30['w'] if x.value is not None]\n",
    "tq1, tq2, tq3 = tq1[1:], tq2[1:], tq3[1:] # om1, om2, om3 = om1[1:], om2[1:], om3[1:]"
   ]
  },
  {
   "cell_type": "code",
   "execution_count": null,
   "metadata": {},
   "outputs": [],
   "source": [
    "w = 602\n",
    "tq1 = move_avg(tq1, w)\n",
    "tq2 = move_avg(tq2, w)\n",
    "tq3 = move_avg(tq3, w)"
   ]
  },
  {
   "cell_type": "code",
   "execution_count": null,
   "metadata": {},
   "outputs": [],
   "source": [
    "t1 = go.Scatter(\n",
    "    x = t_sts[w-1:],\n",
    "    y = tq1,\n",
    "    mode = 'lines',\n",
    "    line = dict(color = 'green'),\n",
    "    name = r'$\\tau_1$'\n",
    ")\n",
    "t2 = go.Scatter(\n",
    "    x = t_sts[w-1:],\n",
    "    y = tq2,\n",
    "    mode = 'lines',\n",
    "    line = dict(color = 'blue'),\n",
    "    name = r'$\\tau_2$'\n",
    ")\n",
    "t3 = go.Scatter(\n",
    "    x = t_sts[w-1:],\n",
    "    y = tq3,\n",
    "    mode = 'lines',\n",
    "    line = dict(color = 'red'),\n",
    "    name = r'$\\tau_3$'\n",
    ")"
   ]
  },
  {
   "cell_type": "code",
   "execution_count": null,
   "metadata": {
    "scrolled": false
   },
   "outputs": [],
   "source": [
    "layout = go.Layout(\n",
    "    xaxis=dict(\n",
    "#         range=[2700, 2900],\n",
    "        ticks = 'inside',\n",
    "#         dtick = 6,\n",
    "        mirror = 'ticks',\n",
    "        title='$\\mbox{Simulated Time } (\\mu s)$',\n",
    "        showline=True,\n",
    "        zeroline=False,\n",
    "        showticklabels=True,\n",
    "        showgrid=True,\n",
    "#     rangeselector=dict(\n",
    "#             buttons=list([\n",
    "#                 dict(count=1,\n",
    "#                      label='1m',\n",
    "#                      step='month',\n",
    "#                      stepmode='backward'),\n",
    "#                 dict(count=6,\n",
    "#                      label='6m',\n",
    "#                      step='month',\n",
    "#                      stepmode='backward'),\n",
    "#                 dict(count=1,\n",
    "#                     label='YTD',\n",
    "#                     step='year',\n",
    "#                     stepmode='todate'),\n",
    "#                 dict(count=1,\n",
    "#                     label='1y',\n",
    "#                     step='year',\n",
    "#                     stepmode='backward'),\n",
    "#                 dict(step='all')\n",
    "#             ])\n",
    "#         ),\n",
    "#         rangeslider=dict(\n",
    "#             visible = True\n",
    "#         )\n",
    "    ),\n",
    "    yaxis=dict(\n",
    "#         range=[0, 0.1],\n",
    "        title='$\\mbox{Torque (body reference)}$',\n",
    "        ticks = 'inside',\n",
    "        mirror = 'ticks',\n",
    "#         dtick = 0.01,\n",
    "        showline=True,\n",
    "        zeroline=False,\n",
    "        showticklabels=True,\n",
    "        showgrid=True\n",
    "    ),\n",
    "#     yaxis2=dict(\n",
    "#         range=[0, 2],\n",
    "#         title='$\\mbox{RMSDV }(cm/s)$',\n",
    "#         ticks = 'inside',\n",
    "# #         titlefont=dict(\n",
    "# #             family='Courier New, monospace',\n",
    "# #             size=18,\n",
    "# #             color='#7f7f7f'\n",
    "# #         ),\n",
    "# #         showline=True,\n",
    "#         zeroline=False,\n",
    "# #         showticklabels=True,\n",
    "# #         showgrid=True,\n",
    "#         titlefont=dict(\n",
    "#             color='red'\n",
    "#         ),\n",
    "#         tickfont=dict(\n",
    "#             color='red'\n",
    "#         ),\n",
    "#         overlaying='y',\n",
    "#         side='right',\n",
    "#         showline=True,\n",
    "#     ),\n",
    "    legend=dict(\n",
    "        x=0.02,\n",
    "        y=0.97,\n",
    "        traceorder='normal',\n",
    "        font=dict(color='black'),\n",
    "#         bgcolor='#E2E2E2',\n",
    "#         bordercolor='black',\n",
    "        borderwidth=1\n",
    "    ),\n",
    "    showlegend=True,\n",
    "    autosize=False,\n",
    "    width=1000,\n",
    "    height=500,\n",
    "    margin=go.layout.Margin(\n",
    "        l=80,\n",
    "        r=20,\n",
    "        b=40,\n",
    "        t=20,\n",
    "        pad=0\n",
    "    )\n",
    ")\n",
    "fig = go.Figure(data=[t1, t2, t3], layout=layout)\n",
    "# py.iplot(fig, filename='RMSDX')\n",
    "iplot(fig)"
   ]
  },
  {
   "cell_type": "markdown",
   "metadata": {},
   "source": [
    "### Inertia"
   ]
  },
  {
   "cell_type": "markdown",
   "metadata": {},
   "source": [
    "Moment of inertia  \n",
    "$I_x$ = 140624.87  \n",
    "$I_y$ = 228040.66  \n",
    "$I_z$ = 140248.42"
   ]
  },
  {
   "cell_type": "markdown",
   "metadata": {},
   "source": [
    "### Quaternion"
   ]
  },
  {
   "cell_type": "code",
   "execution_count": null,
   "metadata": {},
   "outputs": [],
   "source": [
    "f2_30 = wb['f2-30']\n",
    "q1 = [x.value*1231663 for x in f2_30['q'] if x.value is not None]\n",
    "q2 = [x.value*1231663 for x in f2_30['r'] if x.value is not None]\n",
    "q3 = [x.value*1231663 for x in f2_30['s'] if x.value is not None]\n",
    "q4 = [x.value*1231663 for x in f2_30['t'] if x.value is not None]\n",
    "q1, q2, q3, q4 = q1[1:], q2[1:], q3[1:], q4[1:]\n",
    "# q1 = [2*np.arccos(i) for i in q1]"
   ]
  },
  {
   "cell_type": "code",
   "execution_count": null,
   "metadata": {},
   "outputs": [],
   "source": [
    "t_sts = [x.value*gamma for i,x in enumerate(f2_30['ad']) if x.value is not None and i > 0]\n",
    "phi,theta,psi = [],[],[]\n",
    "for i in range(len(q1)):\n",
    "    phi.append(math.atan2(q2[i]*q4[i]+q1[i]*q3[i],q1[i]*q2[i]-q3[i]*q4[i]))\n",
    "    theta.append(np.arccos(-q2[i]*q2[i]-q3[i]*q3[i]+q4[i]*q4[i]+q1[i]*q1[i]))\n",
    "    psi.append(math.atan2(q2[i]*q4[i]-q1[i]*q3[i],q1[i]*q2[i]+q3[i]*q4[i]))"
   ]
  },
  {
   "cell_type": "markdown",
   "metadata": {},
   "source": [
    "Detect location of principle axes change:"
   ]
  },
  {
   "cell_type": "code",
   "execution_count": null,
   "metadata": {},
   "outputs": [],
   "source": [
    "for i in range(1,len(psi)):\n",
    "    if abs(abs(psi[i])-abs(psi[i-1]))>1:\n",
    "        print(t_sts[i],psi[i])\n",
    "\n",
    "for i in range(len(psi)):\n",
    "    if psi[i] > 3:\n",
    "        psi[i] -= np.pi/2\n",
    "    elif psi[i] < -3:\n",
    "        psi[i] = -psi[i] - np.pi/2\n",
    "    elif psi[i] < 0:\n",
    "        psi[i] *= -1"
   ]
  },
  {
   "cell_type": "markdown",
   "metadata": {},
   "source": [
    "Switch back altered axes:"
   ]
  },
  {
   "cell_type": "code",
   "execution_count": null,
   "metadata": {
    "scrolled": true
   },
   "outputs": [],
   "source": [
    "for i in range(len(phi)):\n",
    "    if phi[i]<0 and t_sts[i] < 8:\n",
    "        phi[i] += 0.5*np.pi\n",
    "    else:\n",
    "        phi[i] -= 1.5*np.pi\n",
    "        if phi[i] < -np.pi:\n",
    "            phi[i] += np.pi\n",
    "        elif t_sts[i] > 8.02:\n",
    "            phi[i] += np.pi\n",
    "\n",
    "# for i in range(len(phi)):\n",
    "#     if phi[i]<-np.pi:\n",
    "#         phi[i] += np.pi  "
   ]
  },
  {
   "cell_type": "code",
   "execution_count": null,
   "metadata": {},
   "outputs": [],
   "source": [
    "q1 = [x.value*1231663 for x in f2_30['au'] if x.value is not None]\n",
    "q2 = [x.value*1231663 for x in f2_30['av'] if x.value is not None]\n",
    "q3 = [x.value*1231663 for x in f2_30['aw'] if x.value is not None]\n",
    "q4 = [x.value*1231663 for x in f2_30['ax'] if x.value is not None]\n",
    "q1, q2, q3, q4 = q1[1:], q2[1:], q3[1:], q4[1:]"
   ]
  },
  {
   "cell_type": "code",
   "execution_count": null,
   "metadata": {},
   "outputs": [],
   "source": [
    "t_ats = [x.value*gamma for i,x in enumerate(f2_30['bh']) if x.value is not None and i > 0]\n",
    "phia,thetaa,psia = [],[],[]\n",
    "for i in range(len(q1)):\n",
    "    phia.append(math.atan2(q2[i]*q4[i]+q1[i]*q3[i],q1[i]*q2[i]-q3[i]*q4[i]))\n",
    "    thetaa.append(np.arccos(-q2[i]*q2[i]-q3[i]*q3[i]+q4[i]*q4[i]+q1[i]*q1[i]))\n",
    "    psia.append(math.atan2(q2[i]*q4[i]-q1[i]*q3[i],q1[i]*q2[i]+q3[i]*q4[i]))"
   ]
  },
  {
   "cell_type": "code",
   "execution_count": null,
   "metadata": {
    "scrolled": true
   },
   "outputs": [],
   "source": [
    "for i in range(len(phia)):\n",
    "    if phia[i]<0:\n",
    "        phia[i] += 0.5*np.pi\n",
    "    else:\n",
    "        phia[i] -= 1.5*np.pi\n",
    "        if t_ats[i] > 8.02:\n",
    "            phia[i] += np.pi\n",
    "\n",
    "# for i in range(len(phia)):\n",
    "#     if phia[i]<-np.pi:\n",
    "#         phia[i] += np.pi        "
   ]
  },
  {
   "cell_type": "code",
   "execution_count": null,
   "metadata": {},
   "outputs": [],
   "source": [
    "for i in range(1,len(psia)):\n",
    "    if abs(abs(psia[i])-abs(psia[i-1]))>1:\n",
    "        print(t_ats[i],psia[i])\n",
    "        \n",
    "for i in range(len(psia)):\n",
    "    if psia[i] > 3:\n",
    "        psia[i] -= np.pi/2\n",
    "    elif psia[i] < -3:\n",
    "        psia[i] = -psia[i] - np.pi/2\n",
    "    elif psia[i] < 0:\n",
    "        psia[i] *= -1"
   ]
  },
  {
   "cell_type": "code",
   "execution_count": null,
   "metadata": {},
   "outputs": [],
   "source": [
    "print(len(t_sts),len(phi))"
   ]
  },
  {
   "cell_type": "code",
   "execution_count": null,
   "metadata": {},
   "outputs": [],
   "source": [
    "# ww = []\n",
    "# delta_t = t_sts[2] - t_sts[1]\n",
    "# for i in range(len(phi)-1):\n",
    "#     if abs(phi[i+1]-phi[i]) > 6:\n",
    "#         ww.append(-abs(phi[i+1]+phi[i])/delta_t)\n",
    "#     else:\n",
    "#         ww.append((phi[i+1]-phi[i])/delta_t)\n",
    "#     if ww[-1] < -20:\n",
    "#         print(phi[i+1],phi[i],t_sts[i+1])\n",
    "# w = 602\n",
    "# ww = move_avg(ww, w)"
   ]
  },
  {
   "cell_type": "code",
   "execution_count": null,
   "metadata": {},
   "outputs": [],
   "source": [
    "phase_line0 = go.Scatter(x=[644.8,644.8], y=[-7,4], mode='lines', line=dict(color='lightgreen', dash='dash'), showlegend=False)\n",
    "phase_line1 = go.Scatter(x=[1015.04,1015.04], y=[-7,4], mode='lines', line=dict(color='lightgreen', dash='dash'), showlegend=False)\n",
    "phase_line2 = go.Scatter(x=[1258.4,1258.4], y=[-7,4], mode='lines', line=dict(color='lightgreen', dash='dash'), showlegend=False)\n",
    "phase_line3 = go.Scatter(x=[1778.4,1778.4], y=[-7,4], mode='lines', line=dict(color='lightgreen', dash='dash'), showlegend=False)\n",
    "phase_line4 = go.Scatter(x=[2159.04,2159.04], y=[-7,4], mode='lines', line=dict(color='lightgreen', dash='dash'), showlegend=False)\n",
    "phase_line5 = go.Scatter(x=[2404.48,2404.48], y=[-7,4], mode='lines', line=dict(color='lightgreen', dash='dash'), showlegend=False)\n",
    "phase_line6 = go.Scatter(x=[3265.6,3265.6], y=[-7,4], mode='lines', line=dict(color='lightgreen', dash='dash'), showlegend=False)\n",
    "\n",
    "data1 = go.Scatter(\n",
    "    x = t_sts,\n",
    "    y = phi,\n",
    "    mode = 'lines',\n",
    "    line = dict(color = 'red', dash='dot'),\n",
    "    name = r'$\\phi^{sts}$'\n",
    ")\n",
    "# data2 = go.Scatter(\n",
    "#     x = t_sts,\n",
    "#     y = theta,\n",
    "#     mode = 'lines',\n",
    "#     line = dict(color = 'blue', dash='dot'),\n",
    "#     name = r'$\\theta^{sts}$'\n",
    "# )\n",
    "# data3 = go.Scatter(\n",
    "#     x = t_sts,\n",
    "#     y = psi,\n",
    "#     mode = 'lines',\n",
    "#     line = dict(color = 'yellowgreen', dash='dot'),\n",
    "#     name = r'$\\psi_{sts}$'\n",
    "# )\n",
    "dataa = go.Scatter(\n",
    "    x = t_ats,\n",
    "    y = phia,\n",
    "    mode = 'lines',\n",
    "    line = dict(color = 'darkred'),\n",
    "    name = r'$\\phi^{ats}$'\n",
    ")\n",
    "# datab = go.Scatter(\n",
    "#     x = t_ats,\n",
    "#     y = thetaa,\n",
    "#     mode = 'lines',\n",
    "#     line = dict(color = 'darkblue'),\n",
    "#     name = r'$\\theta^{ats}$'\n",
    "# )\n",
    "# datac = go.Scatter(\n",
    "#     x = t_ats,\n",
    "#     y = psia,\n",
    "#     mode = 'lines',\n",
    "#     line = dict(color = 'darkgreen'),\n",
    "#     name = r'$\\psi^{ats}$'\n",
    "# )\n",
    "# dataJO = go.Scatter(\n",
    "#     x = J_t[1:],\n",
    "#     y = J_theta[1:],\n",
    "#     mode = 'lines',\n",
    "#     line = dict(color = 'blue',dash='dash'),\n",
    "#     name = r'$\\phi_J$'\n",
    "# )"
   ]
  },
  {
   "cell_type": "code",
   "execution_count": null,
   "metadata": {
    "scrolled": false
   },
   "outputs": [],
   "source": [
    "layout = go.Layout(\n",
    "    xaxis=dict(\n",
    "#         range=[0, 3000],\n",
    "        ticks = 'inside',\n",
    "#         dtick = 6,\n",
    "        mirror = 'ticks',\n",
    "        title='$\\mbox{Simulated Time } (\\mu s)$',\n",
    "        showline=True,\n",
    "        zeroline=False,\n",
    "        showticklabels=True,\n",
    "        showgrid=True,\n",
    "    ),\n",
    "    yaxis=dict(\n",
    "#         range=[0.4, 0.55],\n",
    "#         range=[1.5,1.7],\n",
    "        range=[-6.4,0.2],\n",
    "        title=r'$\\text{Euler Angle}$',\n",
    "        ticks = 'inside',\n",
    "        mirror = 'ticks',\n",
    "        ticktext=['$-2\\pi$', '$-3\\pi /2$','$-\\pi$', '$-\\pi /2$', 0, '$\\pi /2$', '$\\pi$'],\n",
    "        tickvals=[-np.pi*2, -3*np.pi/2, -np.pi, -np.pi/2, 0, np.pi/2, np.pi],\n",
    "#         dtick = 0.01,\n",
    "        showline=True,\n",
    "        zeroline=False,\n",
    "        showticklabels=True,\n",
    "        showgrid=True\n",
    "    ),\n",
    "    legend=dict(\n",
    "        x=0.05,\n",
    "        y=0.15,\n",
    "        traceorder='normal',\n",
    "        font=dict(color='black', size=14),\n",
    "#         bgcolor='#E2E2E2',\n",
    "#         bordercolor='black',\n",
    "        borderwidth=1\n",
    "    ),\n",
    "    showlegend=True,\n",
    "    autosize=False,\n",
    "    width=450,\n",
    "    height=300,\n",
    "    margin=go.layout.Margin(\n",
    "        l=60,\n",
    "        r=20,\n",
    "        b=40,\n",
    "        t=20,\n",
    "        pad=0\n",
    "    )\n",
    ")\n",
    "# fig = go.Figure(data=[phase_line0,phase_line1,phase_line2,phase_line3,phase_line4,data1,dataa], layout=layout)\n",
    "fig = go.Figure(data=[phase_line0,phase_line1,phase_line2,phase_line3,phase_line4,phase_line5,phase_line6,\n",
    "                      data1,dataa], layout=layout)\n",
    "# py.iplot(fig, filename='RMSDX')\n",
    "iplot(fig)"
   ]
  },
  {
   "cell_type": "code",
   "execution_count": null,
   "metadata": {},
   "outputs": [],
   "source": [
    "# fig['layout'].update(width=1000,height=500)\n",
    "# pio.write_image(fig, 'quaternionphi.png', format='png', scale=5)\n",
    "# pio.write_image(fig, 'quaterniontheta.png', format='png', scale=5)\n",
    "pio.write_image(fig, 'quaternionphi.png', format='png', scale=5)\n",
    "print(\"Done!\")"
   ]
  },
  {
   "cell_type": "code",
   "execution_count": null,
   "metadata": {},
   "outputs": [],
   "source": [
    "sns.set_style(\"ticks\") # darkgrid, whitegrid, dark, white, ticks\n",
    "sns.set_context(\"notebook\") # paper, notebook, talk, poster\n",
    "fig = pl.figure(figsize=(6, 5), dpi=100)\n",
    "ax1 = fig.add_subplot(111)\n",
    "for i in range(len(pline)):\n",
    "    ax1.plot([pline[i]]*2, [-4,1], color='lightgreen', linewidth=1, alpha=1, linestyle='--')\n",
    "ax1.plot(t_sts, phi, linestyle='--', markersize=0.01, color='red', linewidth=1.5, alpha=0.4, label=r'$\\phi ^{sts}$')\n",
    "ax1.plot(t_ats, phia, linestyle='-', color='darkred', linewidth=1.5, alpha=0.8, label=r'$\\phi ^{ats}$')\n",
    "ax1.plot(x_theta, J_theta, linestyle='--', markersize=1, color='darkcyan', linewidth=1, alpha=1, label=r'$\\phi^{J}$')\n",
    "\n",
    "# ax1.plot([0,15], [0,0], color='black', linewidth=1, alpha=0.5, linestyle='--')\n",
    "# ax1.plot(t_sts[w-1], func(t_sts[w-1], *popt), 'k--',)\n",
    "\n",
    "ax1.legend(loc=3, ncol=1, fontsize='large')\n",
    "ax1.set_xlim([0,12])\n",
    "# ax1.set_xticks(range(0,3001,1000))\n",
    "ax1.set_ylim([-3.2,0.2])\n",
    "# ax1.set_yticks([-1.8+i*0.2 for i in range(11)])\n",
    "ax1.set_yticks([0,-np.pi/2,-np.pi])\n",
    "ax1.set_yticklabels([0,r'$-\\frac{\\pi}{2}$',r'$-\\pi$'])\n",
    "ax1.set_xlabel(r'$\\dot\\gamma t$')\n",
    "ax1.set_ylabel(r'Angle $\\phi$')"
   ]
  },
  {
   "cell_type": "code",
   "execution_count": null,
   "metadata": {},
   "outputs": [],
   "source": [
    "fig.savefig('quaternionphi.png', dpi=200, bbox_inches='tight')"
   ]
  },
  {
   "cell_type": "markdown",
   "metadata": {},
   "source": [
    "### Center of Mass"
   ]
  },
  {
   "cell_type": "code",
   "execution_count": null,
   "metadata": {},
   "outputs": [],
   "source": [
    "x1 = [x.value for x in f2_30['x'] if x.value is not None]\n",
    "x2 = [x.value for x in f2_30['y'] if x.value is not None]\n",
    "x3 = [x.value for x in f2_30['z'] if x.value is not None]\n",
    "x1, x2, x3 = x1[1:], x2[1:], x3[1:] "
   ]
  },
  {
   "cell_type": "code",
   "execution_count": null,
   "metadata": {},
   "outputs": [],
   "source": [
    "w = 100\n",
    "x1 = move_avg(x1, w)\n",
    "x2 = move_avg(x2, w)\n",
    "x3 = move_avg(x3, w)"
   ]
  },
  {
   "cell_type": "code",
   "execution_count": null,
   "metadata": {},
   "outputs": [],
   "source": [
    "t1 = go.Scatter(\n",
    "    x = t,\n",
    "    y = [i*0.1777778 for i in x1],\n",
    "    mode = 'lines',\n",
    "    line = dict(color = 'green'),\n",
    "    name = '$X$'\n",
    ")\n",
    "t2 = go.Scatter(\n",
    "    x = t,\n",
    "    y = [i*0.1777778 for i in x2],\n",
    "    mode = 'lines',\n",
    "    line = dict(color = 'blue'),\n",
    "    name = '$Y$'\n",
    ")\n",
    "t3 = go.Scatter(\n",
    "    x = t,\n",
    "    y = [i*0.1777778 for i in x3],\n",
    "    mode = 'lines',\n",
    "    line = dict(color = 'red'),\n",
    "    name = '$Z$'\n",
    ")"
   ]
  },
  {
   "cell_type": "code",
   "execution_count": null,
   "metadata": {
    "scrolled": false
   },
   "outputs": [],
   "source": [
    "layout = go.Layout(\n",
    "    xaxis=dict(\n",
    "#         range=[0, 520],\n",
    "        ticks = 'inside',\n",
    "#         dtick = 6,\n",
    "        mirror = 'ticks',\n",
    "        title='$\\mbox{Simulated Time } (\\mu s)$',\n",
    "        showline=True,\n",
    "        zeroline=False,\n",
    "        showticklabels=True,\n",
    "        showgrid=True,\n",
    "#     rangeselector=dict(\n",
    "#             buttons=list([\n",
    "#                 dict(count=1,\n",
    "#                      label='1m',\n",
    "#                      step='month',\n",
    "#                      stepmode='backward'),\n",
    "#                 dict(count=6,\n",
    "#                      label='6m',\n",
    "#                      step='month',\n",
    "#                      stepmode='backward'),\n",
    "#                 dict(count=1,\n",
    "#                     label='YTD',\n",
    "#                     step='year',\n",
    "#                     stepmode='todate'),\n",
    "#                 dict(count=1,\n",
    "#                     label='1y',\n",
    "#                     step='year',\n",
    "#                     stepmode='backward'),\n",
    "#                 dict(step='all')\n",
    "#             ])\n",
    "#         ),\n",
    "#         rangeslider=dict(\n",
    "#             visible = True\n",
    "#         )\n",
    "    ),\n",
    "    yaxis=dict(\n",
    "#         range=[0, 0.1],\n",
    "        title='$\\mbox{Center of Mass Position} (\\mu m)$',\n",
    "        ticks = 'inside',\n",
    "        mirror = 'ticks',\n",
    "#         dtick = 0.01,\n",
    "        showline=True,\n",
    "        zeroline=False,\n",
    "        showticklabels=True,\n",
    "        showgrid=True\n",
    "    ),\n",
    "#     yaxis2=dict(\n",
    "#         range=[0, 2],\n",
    "#         title='$\\mbox{RMSDV }(cm/s)$',\n",
    "#         ticks = 'inside',\n",
    "# #         titlefont=dict(\n",
    "# #             family='Courier New, monospace',\n",
    "# #             size=18,\n",
    "# #             color='#7f7f7f'\n",
    "# #         ),\n",
    "# #         showline=True,\n",
    "#         zeroline=False,\n",
    "# #         showticklabels=True,\n",
    "# #         showgrid=True,\n",
    "#         titlefont=dict(\n",
    "#             color='red'\n",
    "#         ),\n",
    "#         tickfont=dict(\n",
    "#             color='red'\n",
    "#         ),\n",
    "#         overlaying='y',\n",
    "#         side='right',\n",
    "#         showline=True,\n",
    "#     ),\n",
    "    legend=dict(\n",
    "        x=0.02,\n",
    "        y=0.9,\n",
    "        traceorder='normal',\n",
    "        font=dict(color='black', size=16),\n",
    "#         bgcolor='#E2E2E2',\n",
    "#         bordercolor='black',\n",
    "        borderwidth=1\n",
    "    ),\n",
    "    showlegend=True,\n",
    "    autosize=False,\n",
    "    width=1000,\n",
    "    height=500,\n",
    "    margin=go.layout.Margin(\n",
    "        l=80,\n",
    "        r=20,\n",
    "        b=40,\n",
    "        t=20,\n",
    "        pad=0\n",
    "    )\n",
    ")\n",
    "fig = go.Figure(data=[t1, t2, t3], layout=layout)\n",
    "# py.iplot(fig, filename='RMSDX')\n",
    "iplot(fig)"
   ]
  },
  {
   "cell_type": "code",
   "execution_count": null,
   "metadata": {},
   "outputs": [],
   "source": [
    "pio.write_image(fig, 'com.png', format='png', scale=5)\n",
    "print(\"Done!\")"
   ]
  },
  {
   "cell_type": "markdown",
   "metadata": {},
   "source": [
    "### RMSD"
   ]
  },
  {
   "cell_type": "markdown",
   "metadata": {},
   "source": [
    "Normalization:  \n",
    "Characteristic Length = 4 $\\mu m$  \n",
    "Mean Flow Rate = 1.11936 $cm/s$"
   ]
  },
  {
   "cell_type": "code",
   "execution_count": null,
   "metadata": {},
   "outputs": [],
   "source": [
    "f2_30 = wb['f2-30rmsd']\n",
    "x_c, v_c = 4, 1.11936\n",
    "# x_c, v_c = 1, 1"
   ]
  },
  {
   "cell_type": "code",
   "execution_count": null,
   "metadata": {},
   "outputs": [],
   "source": [
    "# f2_30 = wb['f2-30rmsd']\n",
    "# t = [x.value for x in f2_30['f'] if x.value is not None]\n",
    "# rmsdx = [x.value for x in f2_30['h'] if x.value is not None]\n",
    "# rmsdv = [x.value for x in f2_30['j'] if x.value is not None]"
   ]
  },
  {
   "cell_type": "code",
   "execution_count": null,
   "metadata": {},
   "outputs": [],
   "source": [
    "t5 = [x.value for i,x in enumerate(f2_30['s']) if x.value is not None and 1638 > i > 0]\n",
    "t4 = [x.value for i,x in enumerate(f2_30['af']) if x.value is not None and 4232 > i > 0]\n",
    "t3 = [x.value for i,x in enumerate(f2_30['as']) if x.value is not None and 1312 > i > 0]\n",
    "t2 = [x.value for i,x in enumerate(f2_30['bf']) if x.value is not None and i > 0]\n",
    "t33 = [x.value for i,x in enumerate(f2_30['bs']) if x.value is not None and 1526 > i > 0]\n",
    "t44 = [x.value for i,x in enumerate(f2_30['cf']) if x.value is not None and 3817 >i > 0]\n",
    "t45 = [x.value for i,x in enumerate(f2_30['cs']) if x.value is not None and 1153 > i > 0]\n",
    "t42 = [x.value for i,x in enumerate(f2_30['df']) if x.value is not None and 6903 > i > 0]\n",
    "t352 = [x.value for i,x in enumerate(f2_30['ds']) if x.value is not None and i > 0]\n",
    "t32 = [x.value for i,x in enumerate(f2_30['ef']) if x.value is not None and i > 0]\n",
    "t332 = [x.value for i,x in enumerate(f2_30['es']) if x.value is not None and i > 0]\n",
    "t22 = [x.value for i,x in enumerate(f2_30['ff']) if x.value is not None and i > 0]\n",
    "t222 = [x.value for i,x in enumerate(f2_30['fs']) if x.value is not None and i > 0]\n",
    "\n",
    "# t45_1 = [x.value for x in f2_30['df'] if x.value is not None]\n",
    "# rmsdx45_1 = [x.value for x in f2_30['dh'] if x.value is not None]\n",
    "# t45_1,rmsdx45_1 = t45_1[1:],rmsdx45_1[1:]\n",
    "\n",
    "# t5, t4, t3, t2, t33, t44, t45 = t5[1:1638], t4[1:4232], t3[1:1312], t2[1:], t33[1:], t44[1:3817], t45[1:]\n",
    "# t42, t352, t32, t332, t22, t222 = t42[1:], t352[1:], t32[1:], t332[1:], t22[1:], t222[1:]"
   ]
  },
  {
   "cell_type": "code",
   "execution_count": null,
   "metadata": {},
   "outputs": [],
   "source": [
    "rmsdx5 = [x.value for i,x in enumerate(f2_30['u']) if x.value is not None and 1638 > i > 0]\n",
    "# rmsdv5 = [x.value for i,x in enumerate(f2_30['w']) if x.value is not None and i > 0]\n",
    "rmsdx4 = [x.value for i,x in enumerate(f2_30['ah']) if x.value is not None and 4232 > i > 0]\n",
    "# rmsdv4 = [x.value for i,x in enumerate(f2_30['aj']) if x.value is not None and i > 0]\n",
    "rmsdx3 = [x.value for i,x in enumerate(f2_30['au']) if x.value is not None and 1312 > i > 0]\n",
    "# rmsdv3 = [x.value for i,x in enumerate(f2_30['aw']) if x.value is not None and i > 0]\n",
    "rmsdx2 = [x.value for i,x in enumerate(f2_30['bh']) if x.value is not None and i > 0]\n",
    "# rmsdv2 = [x.value for i,x in enumerate(f2_30['bj']) if x.value is not None and i > 0]\n",
    "rmsdx33 = [x.value for i,x in enumerate(f2_30['bu']) if x.value is not None and 1526 > i > 0]\n",
    "# rmsdv33 = [x.value for i,x in enumerate(f2_30['bw']) if x.value is not None and i > 0]\n",
    "rmsdx44 = [x.value for i,x in enumerate(f2_30['ch']) if x.value is not None and 3817 > i > 0]\n",
    "# rmsdv44 = [x.value for i,x in enumerate(f2_30['cj']) if x.value is not None and i > 0]\n",
    "rmsdx45 = [x.value for i,x in enumerate(f2_30['cu']) if x.value is not None and 1153 > i > 0]\n",
    "rmsdx42 = [x.value for i,x in enumerate(f2_30['dh']) if x.value is not None and 6903 > i > 0]\n",
    "rmsdx352 = [x.value for i,x in enumerate(f2_30['du']) if x.value is not None and i > 0]\n",
    "rmsdx32 = [x.value for i,x in enumerate(f2_30['eh']) if x.value is not None and i > 0]\n",
    "rmsdx332 = [x.value for i,x in enumerate(f2_30['eu']) if x.value is not None and i > 0]\n",
    "rmsdx22 = [x.value for i,x in enumerate(f2_30['fh']) if x.value is not None and i > 0]\n",
    "rmsdx222 = [x.value for i,x in enumerate(f2_30['fu']) if x.value is not None and i > 0]\n",
    "\n",
    "# rmsdx5, rmsdx4, rmsdx3, rmsdx2, rmsdx33, rmsdx44, rmsdx45 = rmsdx5[1:1638], rmsdx4[1:4232], rmsdx3[1:1312], rmsdx2[1:], rmsdx33[1:], rmsdx44[1:3817], rmsdx45[1:] \n",
    "# rmsdx42, rmsdx352, rmsdx32, rmsdx332 = rmsdx42[1:], rmsdx352[1:], rmsdx32[1:], rmsdx332[1:]\n",
    "# rmsdv5, rmsdv4, rmsdv3, rmsdv2, rmsdv33, rmsdv44 = rmsdv5[1:1566], rmsdv4[1:4232], rmsdv3[1:1312], rmsdv2[1:], rmsdv33[1:], rmsdv44[1:]"
   ]
  },
  {
   "cell_type": "code",
   "execution_count": null,
   "metadata": {},
   "outputs": [],
   "source": [
    "# dx = [x.value for x in f2_30['k'] if x.value is not None]\n",
    "# dy = [x.value for x in f2_30['l'] if x.value is not None]\n",
    "# dz = [x.value for x in f2_30['m'] if x.value is not None]\n",
    "# dx, dy, dz = dx[1:], dy[1:], dz[1:]"
   ]
  },
  {
   "cell_type": "code",
   "execution_count": null,
   "metadata": {},
   "outputs": [],
   "source": [
    "# print(len(t5), len(t4), len(t3), len(rmsdv3))\n",
    "# rmsdv5 = move_avg_time(rmsdv5, t5, 50)\n",
    "# rmsdv4 = move_avg_time(rmsdv4, t4, 50)\n",
    "# rmsdv3 = move_avg_time(rmsdv3, t3, 50)\n",
    "# rmsdv3 = move_avg_time(rmsdv3, t3, 50)"
   ]
  },
  {
   "cell_type": "code",
   "execution_count": null,
   "metadata": {},
   "outputs": [],
   "source": [
    "t = [x.value for x in f2_30['f'] if x.value is not None]\n",
    "rmsdv = [x.value for x in f2_30['j'] if x.value is not None]\n",
    "t,rmsdv = t[1:],rmsdv[1:]\n",
    "rmsdv = move_avg_time(rmsdv, t, 50)"
   ]
  },
  {
   "cell_type": "code",
   "execution_count": null,
   "metadata": {},
   "outputs": [],
   "source": [
    "p0 = go.Scatter(x=[644.8,644.8], y=[-1,5], mode='lines', line=dict(color='lightgreen', dash='dash'), showlegend=False)\n",
    "p1 = go.Scatter(x=[1015.04,1015.04], y=[-1,5], mode='lines', line=dict(color='lightgreen', dash='dash'), showlegend=False)\n",
    "p2 = go.Scatter(x=[1258.4,1258.4], y=[-1,5], mode='lines', line=dict(color='lightgreen', dash='dash'), showlegend=False)\n",
    "p3 = go.Scatter(x=[1778.4,1778.4], y=[-1,5], mode='lines', line=dict(color='lightgreen', dash='dash'), showlegend=False)\n",
    "p4 = go.Scatter(x=[2159.04,2159.04], y=[-1,5], mode='lines', line=dict(color='lightgreen', dash='dash'), showlegend=False)\n",
    "p5 = go.Scatter(x=[2404.48,2404.48], y=[-1,5], mode='lines', line=dict(color='lightgreen', dash='dash'), showlegend=False)\n",
    "p6 = go.Scatter(x=[3265.6,3265.6], y=[-1,5], mode='lines', line=dict(color='lightgreen', dash='dash'), showlegend=False)\n",
    "\n",
    "data1 = go.Scatter(\n",
    "    x = t5,\n",
    "    y = [i/x_c for i in rmsdx5],\n",
    "    mode = 'lines',\n",
    "    line = dict(color = 'green'),\n",
    "#     name = r'$\\Delta t=5$'\n",
    "    name = r'$5\\times 10^{-4}$'\n",
    ")\n",
    "data2 = go.Scatter(\n",
    "    x = t4,\n",
    "    y = [i/x_c for i in rmsdx4],\n",
    "    mode = 'lines',\n",
    "    line = dict(color = 'blue'),\n",
    "#     name = r'$\\Delta t=4$'\n",
    "    name = r'$4\\times 10^{-4}$'\n",
    ")\n",
    "data3 = go.Scatter(\n",
    "    x = t3,\n",
    "    y = [i/x_c for i in rmsdx3],\n",
    "    mode = 'lines',\n",
    "    line = dict(color = 'red'),\n",
    "#     name = r'$\\Delta t=3$'\n",
    "    name = r'$3\\times 10^{-4}$'\n",
    ")\n",
    "data4 = go.Scatter(\n",
    "    x = t2,\n",
    "    y = [i/x_c for i in rmsdx2],\n",
    "    mode = 'lines',\n",
    "    line = dict(color = 'orange'),\n",
    "#     name = r'$\\Delta t=2$'\n",
    "    name = r'$2\\times 10^{-4}$'\n",
    ")\n",
    "data5 = go.Scatter(\n",
    "    x = t33,\n",
    "    y = [i/x_c for i in rmsdx33],\n",
    "    mode = 'lines',\n",
    "    line = dict(color = 'red'),\n",
    "    showlegend=False\n",
    ")\n",
    "data6 = go.Scatter(\n",
    "    x = t44,\n",
    "    y = [i/x_c for i in rmsdx44],\n",
    "    mode = 'lines',\n",
    "    line = dict(color = 'blue'),\n",
    "    showlegend=False\n",
    ")\n",
    "data7 = go.Scatter(\n",
    "    x = t45,\n",
    "    y = [i/x_c for i in rmsdx45],\n",
    "    mode = 'lines',\n",
    "    line = dict(color = 'purple'),\n",
    "#     showlegend=False\n",
    "    name = r'$4.5\\times 10^{-4}$'\n",
    ")\n",
    "data8 = go.Scatter(\n",
    "    x = t42,\n",
    "    y = [i/x_c for i in rmsdx42],\n",
    "    mode = 'lines',\n",
    "    line = dict(color = 'blue'),\n",
    "    showlegend=False\n",
    ")\n",
    "data9 = go.Scatter(\n",
    "    x = t332,\n",
    "    y = [i/x_c for i in rmsdx332],\n",
    "    mode = 'lines',\n",
    "    line = dict(color = 'rgb(238,130,238)'),\n",
    "    showlegend=False\n",
    ")\n",
    "data10 = go.Scatter(\n",
    "    x = t32,\n",
    "    y = [i/x_c for i in rmsdx32],\n",
    "    mode = 'lines',\n",
    "    line = dict(color = 'red'),\n",
    "    showlegend=False\n",
    ")\n",
    "data11 = go.Scatter(\n",
    "    x = t22,\n",
    "    y = [i/x_c for i in rmsdx22],\n",
    "    mode = 'lines',\n",
    "    line = dict(color = 'orange'),\n",
    "    showlegend=False\n",
    ")\n",
    "data12 = go.Scatter(\n",
    "    x = t222,\n",
    "    y = [i/x_c for i in rmsdx222],\n",
    "    mode = 'lines',\n",
    "    line = dict(color = 'green'),\n",
    "    showlegend=False\n",
    ")\n",
    "# datav = go.Scatter(\n",
    "#     x = t[120:],\n",
    "#     y = [i/v_c for i in rmsdv],\n",
    "#     mode = 'lines',\n",
    "#     line = dict(color = 'purple'),\n",
    "#     showlegend=False\n",
    "# )\n",
    "# data11 = go.Scatter(\n",
    "#     x = t45_1,\n",
    "#     y = rmsdx45_1,\n",
    "#     mode = 'lines',\n",
    "#     line = dict(color = 'red'),\n",
    "# #     name = r'$\\Delta t=5$'\n",
    "# #     name = r'$5\\times 10^{-4}$'\n",
    "#     showlegend=False\n",
    "# )"
   ]
  },
  {
   "cell_type": "code",
   "execution_count": null,
   "metadata": {
    "scrolled": false
   },
   "outputs": [],
   "source": [
    "layout = go.Layout(\n",
    "    xaxis=dict(\n",
    "#         range=[0, 520],\n",
    "        ticks = 'inside',\n",
    "#         dtick = 6,\n",
    "        mirror = 'ticks',\n",
    "        title=r'$\\mbox{Simulated Time } (\\mu s)$',\n",
    "        showline=True,\n",
    "        zeroline=False,\n",
    "        showticklabels=True,\n",
    "        showgrid=True,\n",
    "    ),\n",
    "    yaxis=dict(\n",
    "        range=[0, 0.07],\n",
    "        title=r'$\\mbox{RMSDX}$',\n",
    "        ticks = 'inside',\n",
    "        mirror = 'ticks',\n",
    "#         tickformat = ',.0%',\n",
    "        dtick = 0.01,\n",
    "        showline=True,\n",
    "        zeroline=False,\n",
    "        showticklabels=True,\n",
    "        showgrid=True\n",
    "    ),\n",
    "    legend=dict(\n",
    "        x=0.02,\n",
    "        y=0.98,\n",
    "        traceorder='normal',\n",
    "        font=dict(color='black', size=14),\n",
    "#         bgcolor='#E2E2E2',\n",
    "#         bordercolor='black',\n",
    "        borderwidth=1\n",
    "    ),\n",
    "    showlegend=True,\n",
    "    autosize=False,\n",
    "    width=700,\n",
    "    height=300,\n",
    "    margin=go.layout.Margin(\n",
    "        l=80,\n",
    "        r=20,\n",
    "        b=40,\n",
    "        t=20,\n",
    "        pad=0\n",
    "    )\n",
    ")\n",
    "fig = go.Figure(data=[p0,p1,p2,p3,p4,p5,p6,\n",
    "                      data1,data2,data3,data4,data5,data6,data7,data8,data9,data10,data11,data12], layout=layout)\n",
    "# py.iplot(fig, filename='RMSDX')\n",
    "iplot(fig)"
   ]
  },
  {
   "cell_type": "code",
   "execution_count": null,
   "metadata": {},
   "outputs": [],
   "source": [
    "pio.write_image(fig, 'RMSDX.png', format='png', scale=5)\n",
    "print(\"Done!\")"
   ]
  },
  {
   "cell_type": "code",
   "execution_count": null,
   "metadata": {
    "scrolled": false
   },
   "outputs": [],
   "source": [
    "layout = go.Layout(\n",
    "    xaxis=dict(\n",
    "        range=[0, 4000],\n",
    "        ticks = 'inside',\n",
    "#         dtick = 6,\n",
    "        mirror = 'ticks',\n",
    "        title=r'$\\mbox{Simulated Time } (\\mu s)$',\n",
    "        showline=True,\n",
    "        zeroline=False,\n",
    "        showticklabels=True,\n",
    "        showgrid=True,\n",
    "    ),\n",
    "    yaxis=dict(\n",
    "        range=[0.3, 0.7],\n",
    "        title=r'$\\mbox{RMSDV} (cm/s)$',\n",
    "        ticks = 'inside',\n",
    "        mirror = 'ticks',\n",
    "#         dtick = 0.01,\n",
    "        showline=True,\n",
    "        zeroline=False,\n",
    "        showticklabels=True,\n",
    "        showgrid=True\n",
    "    ),\n",
    "    legend=dict(\n",
    "        x=0.02,\n",
    "        y=0.94,\n",
    "        traceorder='normal',\n",
    "        font=dict(color='black', size=16),\n",
    "#         bgcolor='#E2E2E2',\n",
    "#         bordercolor='black',\n",
    "        borderwidth=1\n",
    "    ),\n",
    "    showlegend=False,\n",
    "    autosize=False,\n",
    "    width=700,\n",
    "    height=300,\n",
    "    margin=go.layout.Margin(\n",
    "        l=80,\n",
    "        r=20,\n",
    "        b=40,\n",
    "        t=20,\n",
    "        pad=0\n",
    "    )\n",
    ")\n",
    "fig = go.Figure(data=[phase_line0,phase_line1,phase_line2,phase_line3,phase_line4,phase_line5,phase_line6,\n",
    "                      datav], layout=layout)\n",
    "iplot(fig)"
   ]
  },
  {
   "cell_type": "code",
   "execution_count": null,
   "metadata": {},
   "outputs": [],
   "source": [
    "pio.write_image(fig, 'RMSDV.png', format='png', scale=5)\n",
    "print(\"Done!\")"
   ]
  },
  {
   "cell_type": "code",
   "execution_count": null,
   "metadata": {},
   "outputs": [],
   "source": [
    "sns.set_style(\"darkgrid\") # darkgrid, whitegrid, dark, white, ticks\n",
    "sns.set_context(\"notebook\") # paper, notebook, talk, poster\n",
    "fig = pl.figure(figsize=(14, 7), dpi=100)\n",
    "ax1 = fig.add_subplot(111)\n",
    "\n",
    "ax1.plot([644.8,644.8], [-0.1,0.1], linestyle='-.', color='lightgreen', linewidth=1, alpha=1)\n",
    "ax1.plot([1015.04,1015.04], [-0.1,0.1], linestyle='-.', color='lightgreen', linewidth=1, alpha=1)\n",
    "ax1.plot([1258.4,1258.4], [-0.1,0.1], linestyle='-.', color='lightgreen', linewidth=1, alpha=1)\n",
    "ax1.plot([1778.4,1778.4], [-0.1,0.1], linestyle='-.', color='lightgreen', linewidth=1, alpha=1)\n",
    "\n",
    "ax1.plot(t5, rmsdx5, linestyle='-', color='green', linewidth=1, alpha=1, label=r'$5\\times 10^-4$')\n",
    "ax1.plot(t4, rmsdx4, linestyle='-', color='blue', linewidth=1, alpha=1, label=r'$4\\times 10^-4$')\n",
    "ax1.plot(t3, rmsdx3, linestyle='-', color='red', linewidth=1, alpha=1, label=r'$3\\times 10^-4$')\n",
    "ax1.plot(t2, rmsdx2, linestyle='-', color='orange', linewidth=1, alpha=1, label=r'$2\\times 10^-4$')\n",
    "ax1.plot(t33, rmsdx33, linestyle='-', color='red', linewidth=1, alpha=1)\n",
    "\n",
    "ax1.legend(loc=3, ncol=1)\n",
    "# ax1.set_xlim([0,3150])\n",
    "# ax1.set_xticks(range(0,3001,1000))\n",
    "# ax1.set_ylim([-0.005,0.001])\n",
    "# ax1.set_yticks([0,-np.pi/2,-np.pi])\n",
    "# ax1.set_yticklabels([0,r'$-\\frac{\\pi}{2}$',r'$-\\pi$'])\n",
    "ax1.set_xlabel(r'Simulated Time ($\\mu s$)')\n",
    "ax1.set_ylabel(r'RMSDX ($\\mu m$)')\n",
    "\n",
    "# ax2 = fig.add_subplot(122)\n",
    "# ax2.plot(J_t[1:], J_omega[1:], marker='', color='blue', linewidth=1, alpha=1, label=r'$\\omega$')\n",
    "# ax2.legend(loc=3, ncol=1)\n",
    "# ax2.set_xlim([0,3150])\n",
    "# ax2.set_xticks(range(0,3001,500))\n",
    "# ax2.set_xlabel(r'Time ($\\mu s$)')\n",
    "# ax2.set_ylabel(r'Angular Velocity ($\\mu s^{-1}$)')\n",
    "\n",
    "# fig.subplots_adjust(bottom=0.1, right=0.8, top=0.9, wspace = 0.2, hspace = 0.2)\n",
    "# fig.subplots_adjust(wspace = 0.3)\n",
    "\n",
    "# fig.savefig('RMSDX1.png', dpi=200, bbox_inches='tight')"
   ]
  },
  {
   "cell_type": "code",
   "execution_count": null,
   "metadata": {},
   "outputs": [],
   "source": [
    "sns.set_style(\"ticks\") # darkgrid, whitegrid, dark, white, ticks\n",
    "sns.set_context(\"notebook\") # paper, notebook, talk, poster\n",
    "fig = pl.figure(figsize=(10, 4), dpi=100)\n",
    "ax1 = fig.add_subplot(111)\n",
    "for i in range(len(pline)):\n",
    "    ax1.plot([pline[i]]*2, [-4,1], color='lightgreen', linewidth=1, alpha=1, linestyle='--')\n",
    "# ax1.plot(x_theta, J_theta, linestyle='--', markersize=1, color='cyan', linewidth=1, alpha=1, label=r'$\\phi^{J}$')\n",
    "ax1.plot([i*gamma for i in t5], [i/x_c for i in rmsdx5], linestyle='-', color='green', linewidth=1.5, alpha=1, label=r'$5\\times10^{-4}$')\n",
    "ax1.plot([i*gamma for i in t4], [i/x_c for i in rmsdx4], linestyle='-', color='blue', linewidth=1.5, alpha=1, label=r'$4\\times10^{-4}$')\n",
    "ax1.plot([i*gamma for i in t3], [i/x_c for i in rmsdx3], linestyle='-', color='orange', linewidth=1.5, alpha=1, label=r'$3\\times10^{-4}$')\n",
    "ax1.plot([i*gamma for i in t2], [i/x_c for i in rmsdx2], linestyle='-', color='red', linewidth=1.5, alpha=1, label=r'$2\\times10^{-4}$')\n",
    "ax1.plot([i*gamma for i in t33], [i/x_c for i in rmsdx33], linestyle='-', color='orange', linewidth=1.5, alpha=1)\n",
    "ax1.plot([i*gamma for i in t44], [i/x_c for i in rmsdx44], linestyle='-', color='blue', linewidth=1.5, alpha=1)\n",
    "ax1.plot([i*gamma for i in t45], [i/x_c for i in rmsdx45], linestyle='-', color='purple', linewidth=1.5, alpha=1, label=r'$4.5\\times10^{-4}$')\n",
    "ax1.plot([i*gamma for i in t42], [i/x_c for i in rmsdx42], linestyle='-', color='blue', linewidth=1.5, alpha=1)\n",
    "ax1.plot([i*gamma for i in t332], [i/x_c for i in rmsdx332], linestyle='-', color='orange', linewidth=1.5, alpha=1)\n",
    "ax1.plot([i*gamma for i in t222], [i/x_c for i in rmsdx222], linestyle='-', color='red', linewidth=1.5, alpha=1)\n",
    "# ax1.plot([i*gamma for i in t4], rmsdx4, linestyle='-', color='darkred', linewidth=1.5, alpha=1, label=r'$\\phi ^{ats}$')\n",
    "\n",
    "# ax1.plot([0,15], [0,0], color='black', linewidth=1, alpha=0.5, linestyle='--')\n",
    "# ax1.plot(t_sts[w-1], func(t_sts[w-1], *popt), 'k--',)\n",
    "\n",
    "ax1.legend(loc=2, ncol=1)\n",
    "ax1.set_xlim([0,12])\n",
    "# ax1.set_xticks(range(0,3001,1000))\n",
    "ax1.set_ylim([0,0.05])\n",
    "# ax1.set_yticks([-1.8+i*0.2 for i in range(11)])\n",
    "# ax1.set_yticks([0,-np.pi/2,-np.pi])\n",
    "# ax1.set_yticklabels([0,r'$-\\frac{\\pi}{2}$',r'$-\\pi$'])\n",
    "ax1.set_yticklabels(['{:.0%}'.format(x) for x in [0,0.01,0.02,0.03,0.04,0.05]])\n",
    "ax1.set_xlabel(r'$\\dot\\gamma t$')\n",
    "ax1.set_ylabel(r'Normalized RMSD')"
   ]
  },
  {
   "cell_type": "code",
   "execution_count": null,
   "metadata": {},
   "outputs": [],
   "source": [
    "fig.savefig('RMSDX.png', dpi=200, bbox_inches='tight')"
   ]
  },
  {
   "cell_type": "markdown",
   "metadata": {},
   "source": [
    "## Spin 2 - Shear 30"
   ]
  },
  {
   "cell_type": "markdown",
   "metadata": {},
   "source": [
    "|**Phase**|1|2|3|4|5|\n",
    "|:---:|---:|---:|---:|---:|---:|\n",
    "| **STS Step** \t| 1640000-3190000 \t| 3190000-4080000\t| 4080000-4665000 \t| 4665000-5915000 \t| 5915000-  |\n",
    "| **ATS Step** \t| 1640000-2260000 \t| 2260000-2705000 \t| 2705000-3095000 \t| 3095000-4345000 \t| 4345000-  |\n",
    "| **STS ts** \t| 2($416ps$)  \t| 2  \t| 2  \t| 2  \t| 2  |\n",
    "| **ATS ts** \t| 5($1040ps$)  \t| 4($832ps$)  \t| 3($624ps$)  \t| 2($416ps$)  \t| 3($624ps$)  |\n",
    "| **Starting Time (us)** \t| 0  \t| 644.8  \t| 1015.04  \t| 1258.4  \t| 1778.4  |\n"
   ]
  },
  {
   "cell_type": "markdown",
   "metadata": {},
   "source": [
    "vertical position 1443.52"
   ]
  },
  {
   "cell_type": "markdown",
   "metadata": {},
   "source": [
    "### Kinetic Energy"
   ]
  },
  {
   "cell_type": "code",
   "execution_count": null,
   "metadata": {},
   "outputs": [],
   "source": [
    "f2_30 = wb['p2-30']\n",
    "t_sts = [x.value*gamma for i,x in enumerate(f2_30['ad']) if x.value is not None and i > 0]\n",
    "E_t = [x.value*1231663*1.446 for i,x in enumerate(f2_30['l']) if x.value is not None and i > 0]\n",
    "E_r = [x.value*1231663*1.446 for i,x in enumerate(f2_30['m']) if x.value is not None and i > 0]"
   ]
  },
  {
   "cell_type": "code",
   "execution_count": null,
   "metadata": {},
   "outputs": [],
   "source": [
    "t_ats = [x.value for i,x in enumerate(f2_30['bh']) if x.value is not None and i > 0]\n",
    "E_ta = [x.value*1231663*1.446 for i,x in enumerate(f2_30['ap']) if x.value is not None and i > 0]\n",
    "E_ra = [x.value*1231663*1.446 for i,x in enumerate(f2_30['aq']) if x.value is not None and i > 0]\n",
    "print(len(t_ats), len(E_ta), len(E_ra))\n",
    "E_ta = move_avg_time(E_ta, t_ats, 50)\n",
    "E_ra = move_avg_time(E_ra, t_ats, 50)\n",
    "t_ats = [i*gamma for i in t_ats]"
   ]
  },
  {
   "cell_type": "code",
   "execution_count": null,
   "metadata": {},
   "outputs": [],
   "source": [
    "t_ats = t_ats[961:]\n",
    "print(len(t_ats), len(E_ta), len(E_ra))"
   ]
  },
  {
   "cell_type": "markdown",
   "metadata": {},
   "source": [
    "|**Case**|1|2|3|4|5|\n",
    "|:---:|---:|---:|---:|---:|---:|\n",
    "| **Step** \t| 24200 \t| 48000 \t| 72200 \t| 120200 \t| 240400  |\n",
    "| **Moving Window** \t| 122  \t| 241  \t| 362  \t| 602  \t| 1203  |\n",
    "| **Time (us)** \t| 10.0672  \t| 19.968  \t| 30.0352  \t| 50.0032  \t| 100.0064  |\n"
   ]
  },
  {
   "cell_type": "code",
   "execution_count": null,
   "metadata": {},
   "outputs": [],
   "source": [
    "w = 602\n",
    "E_t = move_avg(E_t, w)\n",
    "E_r = move_avg(E_r, w)"
   ]
  },
  {
   "cell_type": "code",
   "execution_count": null,
   "metadata": {
    "scrolled": false
   },
   "outputs": [],
   "source": [
    "sns.set_style(\"ticks\") # darkgrid, whitegrid, dark, white, ticks\n",
    "sns.set_context(\"notebook\") # paper, notebook, talk, poster\n",
    "fig = pl.figure(figsize=(6, 5), dpi=100)\n",
    "ax1 = fig.add_subplot(111)\n",
    "# for i in range(len(pline)):\n",
    "#     ax1.plot([pline[i]]*2, [1,5], color='limegreen', linewidth=1, alpha=1, linestyle=':')\n",
    "\n",
    "ax1.plot(t_sts[w-1:], E_t, linestyle='--', color='yellowgreen', linewidth=1, alpha=0.7, label=r'$E^{sts}_{tr}$')\n",
    "ax1.plot(t_sts[w-1:], E_r, linestyle='--', color='lightskyblue', linewidth=1, alpha=1, label=r'$E^{sts}_{ro}$')\n",
    "\n",
    "# ax1.plot(t_ats, E_ta, linestyle='-', color='darkgreen', linewidth=1, alpha=1, label=r'$E^{ats}_{tr}$')\n",
    "# ax1.plot(t_ats, E_ra, linestyle='-', color='darkblue', linewidth=1, alpha=1, label=r'$E^{ats}_{ro}$')\n",
    "\n",
    "ax1.legend(loc=2, ncol=1, fontsize='large')\n",
    "ax1.set_xlim([0,2])\n",
    "# ax1.set_xticks(range(0,3001,1000))\n",
    "ax1.set_ylim([1.8,4.7])\n",
    "# ax1.set_yticks([-1.8+i*0.2 for i in range(11)])\n",
    "# ax1.set_yticks([0,-np.pi/2,-np.pi])\n",
    "# ax1.set_yticklabels([0,r'$-\\frac{\\pi}{2}$',r'$-\\pi$'])\n",
    "ax1.set_xlabel(r'$\\dot\\gamma t$')\n",
    "ax1.set_ylabel(r'Kinetic Energy $(10^{-8}\\ pJ)$')\n",
    "\n",
    "# ax2 = fig.add_subplot(122)\n",
    "# ax2.plot(J_t[1:], J_omega[1:], marker='', color='blue', linewidth=1, alpha=1, label=r'$\\omega$')\n",
    "# ax2.legend(loc=3, ncol=1)\n",
    "# ax2.set_xlim([0,3150])\n",
    "# ax2.set_xticks(range(0,3001,500))\n",
    "# ax2.set_xlabel(r'Time ($\\mu s$)')\n",
    "# ax2.set_ylabel(r'Angular Velocity ($\\mu s^{-1}$)')\n",
    "\n",
    "# fig.subplots_adjust(bottom=0.1, right=0.8, top=0.9, wspace = 0.2, hspace = 0.2)\n",
    "# fig.subplots_adjust(wspace = 0.3)"
   ]
  },
  {
   "cell_type": "code",
   "execution_count": null,
   "metadata": {},
   "outputs": [],
   "source": [
    "fig.savefig('sp2-30E.png', dpi=200, bbox_inches='tight')"
   ]
  },
  {
   "cell_type": "markdown",
   "metadata": {},
   "source": [
    "### Angular Velocity"
   ]
  },
  {
   "cell_type": "code",
   "execution_count": null,
   "metadata": {},
   "outputs": [],
   "source": [
    "f2_30 = wb['p2-30']\n",
    "t_sts = [x.value*gamma for i,x in enumerate(f2_30['ad']) if x.value is not None and i > 0]\n",
    "# body\n",
    "# w1 = [x.value*1231663 for x in f2_30['n'] if x.value is not None]\n",
    "# w2 = [x.value*1231663 for x in f2_30['o'] if x.value is not None]\n",
    "# w3 = [x.value*1231663 for x in f2_30['p'] if x.value is not None]\n",
    "# space\n",
    "w1 = [x.value/gamma for i,x in enumerate(f2_30['u']) if x.value is not None and i > 0]\n",
    "w2 = [x.value/gamma for i,x in enumerate(f2_30['v']) if x.value is not None and i > 0]\n",
    "w3 = [x.value/gamma for i,x in enumerate(f2_30['w']) if x.value is not None and i > 0]"
   ]
  },
  {
   "cell_type": "code",
   "execution_count": null,
   "metadata": {},
   "outputs": [],
   "source": [
    "# body reference only\n",
    "# 1605.76 2437.76\n",
    "\n",
    "print(len(w1),len(t_sts))\n",
    "for i in range(19260,len(w1)):\n",
    "    if 1605.76 < t_sts[i] <= 2437.76:\n",
    "        w1[i],w2[i] = -w2[i],w1[i]\n",
    "    elif t_sts[i] > 2437.76:\n",
    "        w1[i],w2[i] = -w1[i],-w2[i]"
   ]
  },
  {
   "cell_type": "code",
   "execution_count": null,
   "metadata": {},
   "outputs": [],
   "source": [
    "w = 602\n",
    "w1 = move_avg(w1, w)\n",
    "w2 = move_avg(w2, w)\n",
    "w3 = move_avg(w3, w)"
   ]
  },
  {
   "cell_type": "code",
   "execution_count": null,
   "metadata": {},
   "outputs": [],
   "source": [
    "t_ats = [x.value*gamma for i,x in enumerate(f2_30['bh']) if x.value is not None and i > 0]\n",
    "# body\n",
    "# wa1 = [x.value*1231663 for x in f2_30['ar'] if x.value is not None]\n",
    "# wa2 = [x.value*1231663 for x in f2_30['as'] if x.value is not None]\n",
    "# wa3 = [x.value*1231663 for x in f2_30['at'] if x.value is not None]\n",
    "# space\n",
    "wa1 = [x.value/gamma for i,x in enumerate(f2_30['ay']) if x.value is not None and i > 0]\n",
    "wa2 = [x.value/gamma for i,x in enumerate(f2_30['az']) if x.value is not None and i > 0]\n",
    "wa3 = [x.value/gamma for i,x in enumerate(f2_30['ba']) if x.value is not None and i > 0]\n",
    "print(len(t_ats), len(wa1), len(wa2), len(wa3))"
   ]
  },
  {
   "cell_type": "code",
   "execution_count": null,
   "metadata": {},
   "outputs": [],
   "source": [
    "# body reference only\n",
    "# 1258.4 1978.08\n",
    "\n",
    "for i in range(len(wa1)):\n",
    "    if 1978.08 >= t_ats[i] > 1258.4:\n",
    "        wa1[i],wa2[i] = -wa2[i],wa1[i]\n",
    "    elif t_ats[i] > 1978.08:\n",
    "        wa1[i],wa2[i] = -wa1[i],-wa2[i]"
   ]
  },
  {
   "cell_type": "code",
   "execution_count": null,
   "metadata": {
    "scrolled": true
   },
   "outputs": [],
   "source": [
    "wa1 = move_avg_time(wa1, t_ats, 50*gamma)\n",
    "wa2 = move_avg_time(wa2, t_ats, 50*gamma)\n",
    "wa3 = move_avg_time(wa3, t_ats, 50*gamma)"
   ]
  },
  {
   "cell_type": "code",
   "execution_count": null,
   "metadata": {},
   "outputs": [],
   "source": [
    "t_ats = t_ats[961:]\n",
    "print(len(t_ats), len(wa1))"
   ]
  },
  {
   "cell_type": "markdown",
   "metadata": {},
   "source": [
    "seaborn plot:"
   ]
  },
  {
   "cell_type": "code",
   "execution_count": null,
   "metadata": {
    "scrolled": false
   },
   "outputs": [],
   "source": [
    "sns.set_style(\"ticks\") # darkgrid, whitegrid, dark, white, ticks\n",
    "sns.set_context(\"notebook\") # paper, notebook, talk, poster\n",
    "fig = pl.figure(figsize=(6, 5), dpi=100)\n",
    "ax1 = fig.add_subplot(111)\n",
    "# for i in range(len(pline)):\n",
    "#     ax1.plot([pline[i]]*2, [-1.8,0.25], color='lightgreen', linewidth=1, alpha=1, linestyle='--')\n",
    "\n",
    "# ax1.plot([644.8,644.8], [-0.1,0.1], linestyle='-.', color='lightgreen', linewidth=1, alpha=1)\n",
    "# ax1.plot([1015.04,1015.04], [-0.1,0.1], linestyle='-.', color='lightgreen', linewidth=1, alpha=1)\n",
    "# ax1.plot([1258.4,1258.4], [-0.1,0.1], linestyle='-.', color='lightgreen', linewidth=1, alpha=1)\n",
    "# ax1.plot([1778.4,1778.4], [-0.1,0.1], linestyle='-.', color='lightgreen', linewidth=1, alpha=1)\n",
    "# ax1.plot([2159.04,2159.04], [-0.1,0.1], linestyle='-.', color='lightgreen', linewidth=1, alpha=1)\n",
    "\n",
    "ax1.plot(t_sts[w-1:], w1, linestyle='--', markersize=0.01, color='yellowgreen', linewidth=1, alpha=0.7, label=r'$\\omega_{x}^{sts}$')\n",
    "ax1.plot(t_sts[w-1:], w2, linestyle='--', markersize=0.01, color='lightblue', linewidth=1, alpha=1, label=r'$\\omega_{y}^{sts}$')\n",
    "ax1.plot(t_sts[w-1:], w3, linestyle='--', markersize=0.01, color='red', linewidth=1, alpha=0.5, label=r'$\\omega_{z}^{sts}$')\n",
    "# ax1.plot([i for i in x_theta], J_omega, linestyle='--', markersize=1, color='cyan', linewidth=1, alpha=1, label=r'$\\omega_J$')\n",
    "# ax1.plot(t_ats, wa1, linestyle='-', color='darkgreen', linewidth=1, alpha=1, label=r'$\\omega_{x}^{ats}$')\n",
    "# ax1.plot(t_ats, wa2, linestyle='-', color='darkblue', linewidth=1, alpha=1, label=r'$\\omega_{y}^{ats}$')\n",
    "# ax1.plot(t_ats, wa3, linestyle='-', color='darkred', linewidth=1, alpha=1, label=r'$\\omega_{z}^{ats}$')\n",
    "\n",
    "ax1.plot([0,15], [0,0], color='black', linewidth=1, alpha=0.5, linestyle='--')\n",
    "# ax1.plot(t_sts[w-1], func(t_sts[w-1], *popt), 'k--',)\n",
    "\n",
    "ax1.legend(loc=5, ncol=3, fontsize='large')\n",
    "ax1.set_xlim([0,2])\n",
    "# ax1.set_xticks(range(0,3001,1000))\n",
    "# ax1.set_ylim([-1.8,0.25])\n",
    "# ax1.set_yticks([-1.8+i*0.2 for i in range(11)])\n",
    "# ax1.set_yticks([0,-np.pi/2,-np.pi])\n",
    "# ax1.set_yticklabels([0,r'$-\\frac{\\pi}{2}$',r'$-\\pi$'])\n",
    "ax1.set_xlabel(r'$\\dot\\gamma t$')\n",
    "ax1.set_ylabel(r'Angular Velocity $\\omega (\\dot\\gamma t)$')\n",
    "\n",
    "# ax2 = fig.add_subplot(122)\n",
    "# ax2.plot(J_t[1:], J_omega[1:], marker='', color='blue', linewidth=1, alpha=1, label=r'$\\omega$')\n",
    "# ax2.legend(loc=3, ncol=1)\n",
    "# ax2.set_xlim([0,3150])\n",
    "# ax2.set_xticks(range(0,3001,500))\n",
    "# ax2.set_xlabel(r'Time ($\\mu s$)')\n",
    "# ax2.set_ylabel(r'Angular Velocity ($\\mu s^{-1}$)')\n",
    "\n",
    "# fig.subplots_adjust(bottom=0.1, right=0.8, top=0.9, wspace = 0.2, hspace = 0.2)\n",
    "# fig.subplots_adjust(wspace = 0.3)"
   ]
  },
  {
   "cell_type": "code",
   "execution_count": null,
   "metadata": {},
   "outputs": [],
   "source": [
    "fig.savefig('sp2-30omega_space.png', dpi=200, bbox_inches='tight')"
   ]
  },
  {
   "cell_type": "markdown",
   "metadata": {},
   "source": [
    "### CFL"
   ]
  },
  {
   "cell_type": "code",
   "execution_count": null,
   "metadata": {},
   "outputs": [],
   "source": [
    "a,b,gamma"
   ]
  },
  {
   "cell_type": "code",
   "execution_count": null,
   "metadata": {
    "scrolled": false
   },
   "outputs": [],
   "source": [
    "sns.set_style(\"ticks\") # darkgrid, whitegrid, dark, white, ticks\n",
    "sns.set_context(\"notebook\") # paper, notebook, talk, poster\n",
    "fig = pl.figure(figsize=(6, 5), dpi=100)\n",
    "ax1 = fig.add_subplot(111)\n",
    "# ax1.plot([i for i in x_theta], J_omega, linestyle='--', markersize=1, color='cyan', linewidth=1, alpha=1, label=r'$\\omega_J$')\n",
    "# for i in range(len(newpline)):\n",
    "#     ax1.plot([newpline[i]]*2, [0,6], color='lightgreen', linewidth=1, alpha=1, linestyle='--')\n",
    "ax1.plot(t_sts[w-1:], [-i*10.2*0.1777778*gamma*0.416*1000 for i in w3], marker='.', markersize=0.01, color='red', linewidth=1.5, alpha=0.5, label=r'$\\Delta P^{sts}$')\n",
    "# ax1.plot(ttt_ave, [i*1000 for i in www_ave], linestyle='-', color='darkred', linewidth=1.5, alpha=1, label=r'$\\Delta P^{ats}$')\n",
    "\n",
    "# ax1.plot([0,15], [0,0], color='black', linewidth=1, alpha=0.5, linestyle='--')\n",
    "# ax1.plot(t_sts[w-1], func(t_sts[w-1], *popt), 'k--',)\n",
    "\n",
    "ax1.legend(loc=2, ncol=1, fontsize='large')\n",
    "ax1.set_xlim([0,2])\n",
    "# ax1.set_xticks(range(0,3001,1000))\n",
    "ax1.set_ylim([1.5,3])\n",
    "# ax1.set_yticks([-1.8+i*0.2 for i in range(11)])\n",
    "# ax1.set_yticks([0,-np.pi/2,-np.pi])\n",
    "# ax1.set_yticklabels([0,r'$-\\frac{\\pi}{2}$',r'$-\\pi$'])\n",
    "ax1.set_xlabel(r'$\\dot\\gamma t$')\n",
    "ax1.set_ylabel(r'$\\Delta P\\ (pm)$')\n",
    "\n",
    "# ax2 = fig.add_subplot(121)\n",
    "# for i in range(len(newpline)):\n",
    "#     ax2.plot([newpline[i]]*2, [0,6], color='lightgreen', linewidth=1, alpha=1, linestyle='--')\n",
    "# ax2.plot(t_sts[w+400-2:], move_avg([-i*1.83*gamma*416 for i in w3],400), marker='.', markersize=0.01, color='red', linewidth=1.5, alpha=0.5, label=r'$\\Delta P^{sts}$')\n",
    "# ax2.plot(t_ats[1000-1:len(www_ats)+999], [i*1000 for i in www_ats], linestyle='-', color='darkred', linewidth=1.5, alpha=1, label=r'$\\Delta P^{ats}$')\n",
    "\n",
    "# ax2.legend(loc=2, ncol=1, fontsize='large')\n",
    "# ax2.set_xlim([0,8.1])\n",
    "# ax2.set_ylim([0,6])\n",
    "# # ax2.set_xticks(range(0,3001,500))\n",
    "# ax2.set_xlabel(r'$\\dot\\gamma t$')\n",
    "# ax2.set_ylabel(r'$\\Delta P\\ (nm)$')\n",
    "\n",
    "# fig.subplots_adjust(bottom=0.1, right=0.8, top=0.9, wspace = 0.2, hspace = 0.2)\n",
    "# fig.subplots_adjust(wspace = 0.3)"
   ]
  },
  {
   "cell_type": "code",
   "execution_count": null,
   "metadata": {},
   "outputs": [],
   "source": [
    "fig.savefig('sp2-30cfl.png', dpi=200, bbox_inches='tight')"
   ]
  },
  {
   "cell_type": "markdown",
   "metadata": {},
   "source": [
    "### Torque"
   ]
  },
  {
   "cell_type": "code",
   "execution_count": null,
   "metadata": {},
   "outputs": [],
   "source": [
    "f2_30 = wb['f2-30']\n",
    "# t_sts = [x.value for x in f2_30['ad'] if x.value is not None]\n",
    "# t_sts = t_sts[1:]\n",
    "tq1,tq2,tq3,t_sts = [],[],[],[]\n",
    "# cells = f2_30['aa':'ad']\n",
    "for i in range(9333, f2_30.max_row+1):\n",
    "    tq1.append(f2_30.cell(row=i,column=27).value)\n",
    "    tq2.append(f2_30.cell(row=i,column=28).value)\n",
    "    tq3.append(f2_30.cell(row=i,column=29).value)\n",
    "    t_sts.append(f2_30.cell(row=i,column=30).value)\n",
    "# print(len(tq1),len(t_sts))\n",
    "w=1"
   ]
  },
  {
   "cell_type": "code",
   "execution_count": null,
   "metadata": {},
   "outputs": [],
   "source": [
    "tq1 = [x.value for x in f2_30['aa'] if x.value is not None]\n",
    "tq2 = [x.value for x in f2_30['ab'] if x.value is not None]\n",
    "tq3 = [x.value for x in f2_30['ac'] if x.value is not None]\n",
    "# w1 = [x.value for x in f2_30['u'] if x.value is not None]\n",
    "# w2 = [x.value for x in f2_30['v'] if x.value is not None]\n",
    "# w3 = [x.value for x in f2_30['w'] if x.value is not None]\n",
    "tq1, tq2, tq3 = tq1[1:], tq2[1:], tq3[1:] # om1, om2, om3 = om1[1:], om2[1:], om3[1:]"
   ]
  },
  {
   "cell_type": "code",
   "execution_count": null,
   "metadata": {},
   "outputs": [],
   "source": [
    "w = 602\n",
    "tq1 = move_avg(tq1, w)\n",
    "tq2 = move_avg(tq2, w)\n",
    "tq3 = move_avg(tq3, w)"
   ]
  },
  {
   "cell_type": "code",
   "execution_count": null,
   "metadata": {},
   "outputs": [],
   "source": [
    "t1 = go.Scatter(\n",
    "    x = t_sts[w-1:],\n",
    "    y = tq1,\n",
    "    mode = 'lines',\n",
    "    line = dict(color = 'green'),\n",
    "    name = r'$\\tau_1$'\n",
    ")\n",
    "t2 = go.Scatter(\n",
    "    x = t_sts[w-1:],\n",
    "    y = tq2,\n",
    "    mode = 'lines',\n",
    "    line = dict(color = 'blue'),\n",
    "    name = r'$\\tau_2$'\n",
    ")\n",
    "t3 = go.Scatter(\n",
    "    x = t_sts[w-1:],\n",
    "    y = tq3,\n",
    "    mode = 'lines',\n",
    "    line = dict(color = 'red'),\n",
    "    name = r'$\\tau_3$'\n",
    ")"
   ]
  },
  {
   "cell_type": "code",
   "execution_count": null,
   "metadata": {
    "scrolled": false
   },
   "outputs": [],
   "source": [
    "layout = go.Layout(\n",
    "    xaxis=dict(\n",
    "#         range=[2700, 2900],\n",
    "        ticks = 'inside',\n",
    "#         dtick = 6,\n",
    "        mirror = 'ticks',\n",
    "        title='$\\mbox{Simulated Time } (\\mu s)$',\n",
    "        showline=True,\n",
    "        zeroline=False,\n",
    "        showticklabels=True,\n",
    "        showgrid=True,\n",
    "#     rangeselector=dict(\n",
    "#             buttons=list([\n",
    "#                 dict(count=1,\n",
    "#                      label='1m',\n",
    "#                      step='month',\n",
    "#                      stepmode='backward'),\n",
    "#                 dict(count=6,\n",
    "#                      label='6m',\n",
    "#                      step='month',\n",
    "#                      stepmode='backward'),\n",
    "#                 dict(count=1,\n",
    "#                     label='YTD',\n",
    "#                     step='year',\n",
    "#                     stepmode='todate'),\n",
    "#                 dict(count=1,\n",
    "#                     label='1y',\n",
    "#                     step='year',\n",
    "#                     stepmode='backward'),\n",
    "#                 dict(step='all')\n",
    "#             ])\n",
    "#         ),\n",
    "#         rangeslider=dict(\n",
    "#             visible = True\n",
    "#         )\n",
    "    ),\n",
    "    yaxis=dict(\n",
    "#         range=[0, 0.1],\n",
    "        title='$\\mbox{Torque (body reference)}$',\n",
    "        ticks = 'inside',\n",
    "        mirror = 'ticks',\n",
    "#         dtick = 0.01,\n",
    "        showline=True,\n",
    "        zeroline=False,\n",
    "        showticklabels=True,\n",
    "        showgrid=True\n",
    "    ),\n",
    "#     yaxis2=dict(\n",
    "#         range=[0, 2],\n",
    "#         title='$\\mbox{RMSDV }(cm/s)$',\n",
    "#         ticks = 'inside',\n",
    "# #         titlefont=dict(\n",
    "# #             family='Courier New, monospace',\n",
    "# #             size=18,\n",
    "# #             color='#7f7f7f'\n",
    "# #         ),\n",
    "# #         showline=True,\n",
    "#         zeroline=False,\n",
    "# #         showticklabels=True,\n",
    "# #         showgrid=True,\n",
    "#         titlefont=dict(\n",
    "#             color='red'\n",
    "#         ),\n",
    "#         tickfont=dict(\n",
    "#             color='red'\n",
    "#         ),\n",
    "#         overlaying='y',\n",
    "#         side='right',\n",
    "#         showline=True,\n",
    "#     ),\n",
    "    legend=dict(\n",
    "        x=0.02,\n",
    "        y=0.97,\n",
    "        traceorder='normal',\n",
    "        font=dict(color='black'),\n",
    "#         bgcolor='#E2E2E2',\n",
    "#         bordercolor='black',\n",
    "        borderwidth=1\n",
    "    ),\n",
    "    showlegend=True,\n",
    "    autosize=False,\n",
    "    width=1000,\n",
    "    height=500,\n",
    "    margin=go.layout.Margin(\n",
    "        l=80,\n",
    "        r=20,\n",
    "        b=40,\n",
    "        t=20,\n",
    "        pad=0\n",
    "    )\n",
    ")\n",
    "fig = go.Figure(data=[t1, t2, t3], layout=layout)\n",
    "# py.iplot(fig, filename='RMSDX')\n",
    "iplot(fig)"
   ]
  },
  {
   "cell_type": "markdown",
   "metadata": {},
   "source": [
    "### Inertia"
   ]
  },
  {
   "cell_type": "markdown",
   "metadata": {},
   "source": [
    "Moment of inertia  \n",
    "$I_x$ = 140624.87  \n",
    "$I_y$ = 228040.66  \n",
    "$I_z$ = 140248.42"
   ]
  },
  {
   "cell_type": "markdown",
   "metadata": {},
   "source": [
    "### Quaternion"
   ]
  },
  {
   "cell_type": "code",
   "execution_count": null,
   "metadata": {},
   "outputs": [],
   "source": [
    "f2_30 = wb['f2-30']\n",
    "q1 = [x.value*1231663 for x in f2_30['q'] if x.value is not None]\n",
    "q2 = [x.value*1231663 for x in f2_30['r'] if x.value is not None]\n",
    "q3 = [x.value*1231663 for x in f2_30['s'] if x.value is not None]\n",
    "q4 = [x.value*1231663 for x in f2_30['t'] if x.value is not None]\n",
    "q1, q2, q3, q4 = q1[1:], q2[1:], q3[1:], q4[1:]\n",
    "# q1 = [2*np.arccos(i) for i in q1]"
   ]
  },
  {
   "cell_type": "code",
   "execution_count": null,
   "metadata": {},
   "outputs": [],
   "source": [
    "t_sts = [x.value*gamma for i,x in enumerate(f2_30['ad']) if x.value is not None and i > 0]\n",
    "phi,theta,psi = [],[],[]\n",
    "for i in range(len(q1)):\n",
    "    phi.append(math.atan2(q2[i]*q4[i]+q1[i]*q3[i],q1[i]*q2[i]-q3[i]*q4[i]))\n",
    "    theta.append(np.arccos(-q2[i]*q2[i]-q3[i]*q3[i]+q4[i]*q4[i]+q1[i]*q1[i]))\n",
    "    psi.append(math.atan2(q2[i]*q4[i]-q1[i]*q3[i],q1[i]*q2[i]+q3[i]*q4[i]))"
   ]
  },
  {
   "cell_type": "markdown",
   "metadata": {},
   "source": [
    "Detect location of principle axes change:"
   ]
  },
  {
   "cell_type": "code",
   "execution_count": null,
   "metadata": {},
   "outputs": [],
   "source": [
    "for i in range(1,len(psi)):\n",
    "    if abs(abs(psi[i])-abs(psi[i-1]))>1:\n",
    "        print(t_sts[i],psi[i])\n",
    "\n",
    "for i in range(len(psi)):\n",
    "    if psi[i] > 3:\n",
    "        psi[i] -= np.pi/2\n",
    "    elif psi[i] < -3:\n",
    "        psi[i] = -psi[i] - np.pi/2\n",
    "    elif psi[i] < 0:\n",
    "        psi[i] *= -1"
   ]
  },
  {
   "cell_type": "markdown",
   "metadata": {},
   "source": [
    "Switch back altered axes:"
   ]
  },
  {
   "cell_type": "code",
   "execution_count": null,
   "metadata": {
    "scrolled": true
   },
   "outputs": [],
   "source": [
    "for i in range(len(phi)):\n",
    "    if phi[i]<0 and t_sts[i] < 8:\n",
    "        phi[i] += 0.5*np.pi\n",
    "    else:\n",
    "        phi[i] -= 1.5*np.pi\n",
    "        if phi[i] < -np.pi:\n",
    "            phi[i] += np.pi\n",
    "        elif t_sts[i] > 8.02:\n",
    "            phi[i] += np.pi\n",
    "\n",
    "# for i in range(len(phi)):\n",
    "#     if phi[i]<-np.pi:\n",
    "#         phi[i] += np.pi  "
   ]
  },
  {
   "cell_type": "code",
   "execution_count": null,
   "metadata": {},
   "outputs": [],
   "source": [
    "q1 = [x.value*1231663 for x in f2_30['au'] if x.value is not None]\n",
    "q2 = [x.value*1231663 for x in f2_30['av'] if x.value is not None]\n",
    "q3 = [x.value*1231663 for x in f2_30['aw'] if x.value is not None]\n",
    "q4 = [x.value*1231663 for x in f2_30['ax'] if x.value is not None]\n",
    "q1, q2, q3, q4 = q1[1:], q2[1:], q3[1:], q4[1:]"
   ]
  },
  {
   "cell_type": "code",
   "execution_count": null,
   "metadata": {},
   "outputs": [],
   "source": [
    "t_ats = [x.value*gamma for i,x in enumerate(f2_30['bh']) if x.value is not None and i > 0]\n",
    "phia,thetaa,psia = [],[],[]\n",
    "for i in range(len(q1)):\n",
    "    phia.append(math.atan2(q2[i]*q4[i]+q1[i]*q3[i],q1[i]*q2[i]-q3[i]*q4[i]))\n",
    "    thetaa.append(np.arccos(-q2[i]*q2[i]-q3[i]*q3[i]+q4[i]*q4[i]+q1[i]*q1[i]))\n",
    "    psia.append(math.atan2(q2[i]*q4[i]-q1[i]*q3[i],q1[i]*q2[i]+q3[i]*q4[i]))"
   ]
  },
  {
   "cell_type": "code",
   "execution_count": null,
   "metadata": {
    "scrolled": true
   },
   "outputs": [],
   "source": [
    "for i in range(len(phia)):\n",
    "    if phia[i]<0:\n",
    "        phia[i] += 0.5*np.pi\n",
    "    else:\n",
    "        phia[i] -= 1.5*np.pi\n",
    "        if t_ats[i] > 8.02:\n",
    "            phia[i] += np.pi\n",
    "\n",
    "# for i in range(len(phia)):\n",
    "#     if phia[i]<-np.pi:\n",
    "#         phia[i] += np.pi        "
   ]
  },
  {
   "cell_type": "code",
   "execution_count": null,
   "metadata": {},
   "outputs": [],
   "source": [
    "for i in range(1,len(psia)):\n",
    "    if abs(abs(psia[i])-abs(psia[i-1]))>1:\n",
    "        print(t_ats[i],psia[i])\n",
    "        \n",
    "for i in range(len(psia)):\n",
    "    if psia[i] > 3:\n",
    "        psia[i] -= np.pi/2\n",
    "    elif psia[i] < -3:\n",
    "        psia[i] = -psia[i] - np.pi/2\n",
    "    elif psia[i] < 0:\n",
    "        psia[i] *= -1"
   ]
  },
  {
   "cell_type": "code",
   "execution_count": null,
   "metadata": {},
   "outputs": [],
   "source": [
    "print(len(t_sts),len(phi))"
   ]
  },
  {
   "cell_type": "code",
   "execution_count": null,
   "metadata": {},
   "outputs": [],
   "source": [
    "# ww = []\n",
    "# delta_t = t_sts[2] - t_sts[1]\n",
    "# for i in range(len(phi)-1):\n",
    "#     if abs(phi[i+1]-phi[i]) > 6:\n",
    "#         ww.append(-abs(phi[i+1]+phi[i])/delta_t)\n",
    "#     else:\n",
    "#         ww.append((phi[i+1]-phi[i])/delta_t)\n",
    "#     if ww[-1] < -20:\n",
    "#         print(phi[i+1],phi[i],t_sts[i+1])\n",
    "# w = 602\n",
    "# ww = move_avg(ww, w)"
   ]
  },
  {
   "cell_type": "code",
   "execution_count": null,
   "metadata": {},
   "outputs": [],
   "source": [
    "phase_line0 = go.Scatter(x=[644.8,644.8], y=[-7,4], mode='lines', line=dict(color='lightgreen', dash='dash'), showlegend=False)\n",
    "phase_line1 = go.Scatter(x=[1015.04,1015.04], y=[-7,4], mode='lines', line=dict(color='lightgreen', dash='dash'), showlegend=False)\n",
    "phase_line2 = go.Scatter(x=[1258.4,1258.4], y=[-7,4], mode='lines', line=dict(color='lightgreen', dash='dash'), showlegend=False)\n",
    "phase_line3 = go.Scatter(x=[1778.4,1778.4], y=[-7,4], mode='lines', line=dict(color='lightgreen', dash='dash'), showlegend=False)\n",
    "phase_line4 = go.Scatter(x=[2159.04,2159.04], y=[-7,4], mode='lines', line=dict(color='lightgreen', dash='dash'), showlegend=False)\n",
    "phase_line5 = go.Scatter(x=[2404.48,2404.48], y=[-7,4], mode='lines', line=dict(color='lightgreen', dash='dash'), showlegend=False)\n",
    "phase_line6 = go.Scatter(x=[3265.6,3265.6], y=[-7,4], mode='lines', line=dict(color='lightgreen', dash='dash'), showlegend=False)\n",
    "\n",
    "data1 = go.Scatter(\n",
    "    x = t_sts,\n",
    "    y = phi,\n",
    "    mode = 'lines',\n",
    "    line = dict(color = 'red', dash='dot'),\n",
    "    name = r'$\\phi^{sts}$'\n",
    ")\n",
    "# data2 = go.Scatter(\n",
    "#     x = t_sts,\n",
    "#     y = theta,\n",
    "#     mode = 'lines',\n",
    "#     line = dict(color = 'blue', dash='dot'),\n",
    "#     name = r'$\\theta^{sts}$'\n",
    "# )\n",
    "# data3 = go.Scatter(\n",
    "#     x = t_sts,\n",
    "#     y = psi,\n",
    "#     mode = 'lines',\n",
    "#     line = dict(color = 'yellowgreen', dash='dot'),\n",
    "#     name = r'$\\psi_{sts}$'\n",
    "# )\n",
    "dataa = go.Scatter(\n",
    "    x = t_ats,\n",
    "    y = phia,\n",
    "    mode = 'lines',\n",
    "    line = dict(color = 'darkred'),\n",
    "    name = r'$\\phi^{ats}$'\n",
    ")\n",
    "# datab = go.Scatter(\n",
    "#     x = t_ats,\n",
    "#     y = thetaa,\n",
    "#     mode = 'lines',\n",
    "#     line = dict(color = 'darkblue'),\n",
    "#     name = r'$\\theta^{ats}$'\n",
    "# )\n",
    "# datac = go.Scatter(\n",
    "#     x = t_ats,\n",
    "#     y = psia,\n",
    "#     mode = 'lines',\n",
    "#     line = dict(color = 'darkgreen'),\n",
    "#     name = r'$\\psi^{ats}$'\n",
    "# )\n",
    "# dataJO = go.Scatter(\n",
    "#     x = J_t[1:],\n",
    "#     y = J_theta[1:],\n",
    "#     mode = 'lines',\n",
    "#     line = dict(color = 'blue',dash='dash'),\n",
    "#     name = r'$\\phi_J$'\n",
    "# )"
   ]
  },
  {
   "cell_type": "code",
   "execution_count": null,
   "metadata": {
    "scrolled": false
   },
   "outputs": [],
   "source": [
    "layout = go.Layout(\n",
    "    xaxis=dict(\n",
    "#         range=[0, 3000],\n",
    "        ticks = 'inside',\n",
    "#         dtick = 6,\n",
    "        mirror = 'ticks',\n",
    "        title='$\\mbox{Simulated Time } (\\mu s)$',\n",
    "        showline=True,\n",
    "        zeroline=False,\n",
    "        showticklabels=True,\n",
    "        showgrid=True,\n",
    "    ),\n",
    "    yaxis=dict(\n",
    "#         range=[0.4, 0.55],\n",
    "#         range=[1.5,1.7],\n",
    "        range=[-6.4,0.2],\n",
    "        title=r'$\\text{Euler Angle}$',\n",
    "        ticks = 'inside',\n",
    "        mirror = 'ticks',\n",
    "        ticktext=['$-2\\pi$', '$-3\\pi /2$','$-\\pi$', '$-\\pi /2$', 0, '$\\pi /2$', '$\\pi$'],\n",
    "        tickvals=[-np.pi*2, -3*np.pi/2, -np.pi, -np.pi/2, 0, np.pi/2, np.pi],\n",
    "#         dtick = 0.01,\n",
    "        showline=True,\n",
    "        zeroline=False,\n",
    "        showticklabels=True,\n",
    "        showgrid=True\n",
    "    ),\n",
    "    legend=dict(\n",
    "        x=0.05,\n",
    "        y=0.15,\n",
    "        traceorder='normal',\n",
    "        font=dict(color='black', size=14),\n",
    "#         bgcolor='#E2E2E2',\n",
    "#         bordercolor='black',\n",
    "        borderwidth=1\n",
    "    ),\n",
    "    showlegend=True,\n",
    "    autosize=False,\n",
    "    width=450,\n",
    "    height=300,\n",
    "    margin=go.layout.Margin(\n",
    "        l=60,\n",
    "        r=20,\n",
    "        b=40,\n",
    "        t=20,\n",
    "        pad=0\n",
    "    )\n",
    ")\n",
    "# fig = go.Figure(data=[phase_line0,phase_line1,phase_line2,phase_line3,phase_line4,data1,dataa], layout=layout)\n",
    "fig = go.Figure(data=[phase_line0,phase_line1,phase_line2,phase_line3,phase_line4,phase_line5,phase_line6,\n",
    "                      data1,dataa], layout=layout)\n",
    "# py.iplot(fig, filename='RMSDX')\n",
    "iplot(fig)"
   ]
  },
  {
   "cell_type": "code",
   "execution_count": null,
   "metadata": {},
   "outputs": [],
   "source": [
    "# fig['layout'].update(width=1000,height=500)\n",
    "# pio.write_image(fig, 'quaternionphi.png', format='png', scale=5)\n",
    "# pio.write_image(fig, 'quaterniontheta.png', format='png', scale=5)\n",
    "pio.write_image(fig, 'quaternionphi.png', format='png', scale=5)\n",
    "print(\"Done!\")"
   ]
  },
  {
   "cell_type": "code",
   "execution_count": null,
   "metadata": {},
   "outputs": [],
   "source": [
    "sns.set_style(\"ticks\") # darkgrid, whitegrid, dark, white, ticks\n",
    "sns.set_context(\"notebook\") # paper, notebook, talk, poster\n",
    "fig = pl.figure(figsize=(6, 5), dpi=100)\n",
    "ax1 = fig.add_subplot(111)\n",
    "for i in range(len(pline)):\n",
    "    ax1.plot([pline[i]]*2, [-4,1], color='lightgreen', linewidth=1, alpha=1, linestyle='--')\n",
    "ax1.plot(t_sts, phi, linestyle='--', markersize=0.01, color='red', linewidth=1.5, alpha=0.4, label=r'$\\phi ^{sts}$')\n",
    "ax1.plot(t_ats, phia, linestyle='-', color='darkred', linewidth=1.5, alpha=0.8, label=r'$\\phi ^{ats}$')\n",
    "ax1.plot(x_theta, J_theta, linestyle='--', markersize=1, color='darkcyan', linewidth=1, alpha=1, label=r'$\\phi^{J}$')\n",
    "\n",
    "# ax1.plot([0,15], [0,0], color='black', linewidth=1, alpha=0.5, linestyle='--')\n",
    "# ax1.plot(t_sts[w-1], func(t_sts[w-1], *popt), 'k--',)\n",
    "\n",
    "ax1.legend(loc=3, ncol=1, fontsize='large')\n",
    "ax1.set_xlim([0,12])\n",
    "# ax1.set_xticks(range(0,3001,1000))\n",
    "ax1.set_ylim([-3.2,0.2])\n",
    "# ax1.set_yticks([-1.8+i*0.2 for i in range(11)])\n",
    "ax1.set_yticks([0,-np.pi/2,-np.pi])\n",
    "ax1.set_yticklabels([0,r'$-\\frac{\\pi}{2}$',r'$-\\pi$'])\n",
    "ax1.set_xlabel(r'$\\dot\\gamma t$')\n",
    "ax1.set_ylabel(r'Angle $\\phi$')"
   ]
  },
  {
   "cell_type": "code",
   "execution_count": null,
   "metadata": {},
   "outputs": [],
   "source": [
    "fig.savefig('quaternionphi.png', dpi=200, bbox_inches='tight')"
   ]
  },
  {
   "cell_type": "markdown",
   "metadata": {},
   "source": [
    "### Center of Mass"
   ]
  },
  {
   "cell_type": "code",
   "execution_count": null,
   "metadata": {},
   "outputs": [],
   "source": [
    "x1 = [x.value for x in f2_30['x'] if x.value is not None]\n",
    "x2 = [x.value for x in f2_30['y'] if x.value is not None]\n",
    "x3 = [x.value for x in f2_30['z'] if x.value is not None]\n",
    "x1, x2, x3 = x1[1:], x2[1:], x3[1:] "
   ]
  },
  {
   "cell_type": "code",
   "execution_count": null,
   "metadata": {},
   "outputs": [],
   "source": [
    "w = 100\n",
    "x1 = move_avg(x1, w)\n",
    "x2 = move_avg(x2, w)\n",
    "x3 = move_avg(x3, w)"
   ]
  },
  {
   "cell_type": "code",
   "execution_count": null,
   "metadata": {},
   "outputs": [],
   "source": [
    "t1 = go.Scatter(\n",
    "    x = t,\n",
    "    y = [i*0.1777778 for i in x1],\n",
    "    mode = 'lines',\n",
    "    line = dict(color = 'green'),\n",
    "    name = '$X$'\n",
    ")\n",
    "t2 = go.Scatter(\n",
    "    x = t,\n",
    "    y = [i*0.1777778 for i in x2],\n",
    "    mode = 'lines',\n",
    "    line = dict(color = 'blue'),\n",
    "    name = '$Y$'\n",
    ")\n",
    "t3 = go.Scatter(\n",
    "    x = t,\n",
    "    y = [i*0.1777778 for i in x3],\n",
    "    mode = 'lines',\n",
    "    line = dict(color = 'red'),\n",
    "    name = '$Z$'\n",
    ")"
   ]
  },
  {
   "cell_type": "code",
   "execution_count": null,
   "metadata": {
    "scrolled": false
   },
   "outputs": [],
   "source": [
    "layout = go.Layout(\n",
    "    xaxis=dict(\n",
    "#         range=[0, 520],\n",
    "        ticks = 'inside',\n",
    "#         dtick = 6,\n",
    "        mirror = 'ticks',\n",
    "        title='$\\mbox{Simulated Time } (\\mu s)$',\n",
    "        showline=True,\n",
    "        zeroline=False,\n",
    "        showticklabels=True,\n",
    "        showgrid=True,\n",
    "#     rangeselector=dict(\n",
    "#             buttons=list([\n",
    "#                 dict(count=1,\n",
    "#                      label='1m',\n",
    "#                      step='month',\n",
    "#                      stepmode='backward'),\n",
    "#                 dict(count=6,\n",
    "#                      label='6m',\n",
    "#                      step='month',\n",
    "#                      stepmode='backward'),\n",
    "#                 dict(count=1,\n",
    "#                     label='YTD',\n",
    "#                     step='year',\n",
    "#                     stepmode='todate'),\n",
    "#                 dict(count=1,\n",
    "#                     label='1y',\n",
    "#                     step='year',\n",
    "#                     stepmode='backward'),\n",
    "#                 dict(step='all')\n",
    "#             ])\n",
    "#         ),\n",
    "#         rangeslider=dict(\n",
    "#             visible = True\n",
    "#         )\n",
    "    ),\n",
    "    yaxis=dict(\n",
    "#         range=[0, 0.1],\n",
    "        title='$\\mbox{Center of Mass Position} (\\mu m)$',\n",
    "        ticks = 'inside',\n",
    "        mirror = 'ticks',\n",
    "#         dtick = 0.01,\n",
    "        showline=True,\n",
    "        zeroline=False,\n",
    "        showticklabels=True,\n",
    "        showgrid=True\n",
    "    ),\n",
    "#     yaxis2=dict(\n",
    "#         range=[0, 2],\n",
    "#         title='$\\mbox{RMSDV }(cm/s)$',\n",
    "#         ticks = 'inside',\n",
    "# #         titlefont=dict(\n",
    "# #             family='Courier New, monospace',\n",
    "# #             size=18,\n",
    "# #             color='#7f7f7f'\n",
    "# #         ),\n",
    "# #         showline=True,\n",
    "#         zeroline=False,\n",
    "# #         showticklabels=True,\n",
    "# #         showgrid=True,\n",
    "#         titlefont=dict(\n",
    "#             color='red'\n",
    "#         ),\n",
    "#         tickfont=dict(\n",
    "#             color='red'\n",
    "#         ),\n",
    "#         overlaying='y',\n",
    "#         side='right',\n",
    "#         showline=True,\n",
    "#     ),\n",
    "    legend=dict(\n",
    "        x=0.02,\n",
    "        y=0.9,\n",
    "        traceorder='normal',\n",
    "        font=dict(color='black', size=16),\n",
    "#         bgcolor='#E2E2E2',\n",
    "#         bordercolor='black',\n",
    "        borderwidth=1\n",
    "    ),\n",
    "    showlegend=True,\n",
    "    autosize=False,\n",
    "    width=1000,\n",
    "    height=500,\n",
    "    margin=go.layout.Margin(\n",
    "        l=80,\n",
    "        r=20,\n",
    "        b=40,\n",
    "        t=20,\n",
    "        pad=0\n",
    "    )\n",
    ")\n",
    "fig = go.Figure(data=[t1, t2, t3], layout=layout)\n",
    "# py.iplot(fig, filename='RMSDX')\n",
    "iplot(fig)"
   ]
  },
  {
   "cell_type": "code",
   "execution_count": null,
   "metadata": {},
   "outputs": [],
   "source": [
    "pio.write_image(fig, 'com.png', format='png', scale=5)\n",
    "print(\"Done!\")"
   ]
  },
  {
   "cell_type": "markdown",
   "metadata": {},
   "source": [
    "### RMSD"
   ]
  },
  {
   "cell_type": "markdown",
   "metadata": {},
   "source": [
    "Normalization:  \n",
    "Characteristic Length = 4 $\\mu m$  \n",
    "Mean Flow Rate = 1.11936 $cm/s$"
   ]
  },
  {
   "cell_type": "code",
   "execution_count": null,
   "metadata": {},
   "outputs": [],
   "source": [
    "f2_30 = wb['f2-30rmsd']\n",
    "x_c, v_c = 4, 1.11936\n",
    "# x_c, v_c = 1, 1"
   ]
  },
  {
   "cell_type": "code",
   "execution_count": null,
   "metadata": {},
   "outputs": [],
   "source": [
    "# f2_30 = wb['f2-30rmsd']\n",
    "# t = [x.value for x in f2_30['f'] if x.value is not None]\n",
    "# rmsdx = [x.value for x in f2_30['h'] if x.value is not None]\n",
    "# rmsdv = [x.value for x in f2_30['j'] if x.value is not None]"
   ]
  },
  {
   "cell_type": "code",
   "execution_count": null,
   "metadata": {},
   "outputs": [],
   "source": [
    "t5 = [x.value for i,x in enumerate(f2_30['s']) if x.value is not None and 1638 > i > 0]\n",
    "t4 = [x.value for i,x in enumerate(f2_30['af']) if x.value is not None and 4232 > i > 0]\n",
    "t3 = [x.value for i,x in enumerate(f2_30['as']) if x.value is not None and 1312 > i > 0]\n",
    "t2 = [x.value for i,x in enumerate(f2_30['bf']) if x.value is not None and i > 0]\n",
    "t33 = [x.value for i,x in enumerate(f2_30['bs']) if x.value is not None and 1526 > i > 0]\n",
    "t44 = [x.value for i,x in enumerate(f2_30['cf']) if x.value is not None and 3817 >i > 0]\n",
    "t45 = [x.value for i,x in enumerate(f2_30['cs']) if x.value is not None and 1153 > i > 0]\n",
    "t42 = [x.value for i,x in enumerate(f2_30['df']) if x.value is not None and 6903 > i > 0]\n",
    "t352 = [x.value for i,x in enumerate(f2_30['ds']) if x.value is not None and i > 0]\n",
    "t32 = [x.value for i,x in enumerate(f2_30['ef']) if x.value is not None and i > 0]\n",
    "t332 = [x.value for i,x in enumerate(f2_30['es']) if x.value is not None and i > 0]\n",
    "t22 = [x.value for i,x in enumerate(f2_30['ff']) if x.value is not None and i > 0]\n",
    "t222 = [x.value for i,x in enumerate(f2_30['fs']) if x.value is not None and i > 0]\n",
    "\n",
    "# t45_1 = [x.value for x in f2_30['df'] if x.value is not None]\n",
    "# rmsdx45_1 = [x.value for x in f2_30['dh'] if x.value is not None]\n",
    "# t45_1,rmsdx45_1 = t45_1[1:],rmsdx45_1[1:]\n",
    "\n",
    "# t5, t4, t3, t2, t33, t44, t45 = t5[1:1638], t4[1:4232], t3[1:1312], t2[1:], t33[1:], t44[1:3817], t45[1:]\n",
    "# t42, t352, t32, t332, t22, t222 = t42[1:], t352[1:], t32[1:], t332[1:], t22[1:], t222[1:]"
   ]
  },
  {
   "cell_type": "code",
   "execution_count": null,
   "metadata": {},
   "outputs": [],
   "source": [
    "rmsdx5 = [x.value for i,x in enumerate(f2_30['u']) if x.value is not None and 1638 > i > 0]\n",
    "# rmsdv5 = [x.value for i,x in enumerate(f2_30['w']) if x.value is not None and i > 0]\n",
    "rmsdx4 = [x.value for i,x in enumerate(f2_30['ah']) if x.value is not None and 4232 > i > 0]\n",
    "# rmsdv4 = [x.value for i,x in enumerate(f2_30['aj']) if x.value is not None and i > 0]\n",
    "rmsdx3 = [x.value for i,x in enumerate(f2_30['au']) if x.value is not None and 1312 > i > 0]\n",
    "# rmsdv3 = [x.value for i,x in enumerate(f2_30['aw']) if x.value is not None and i > 0]\n",
    "rmsdx2 = [x.value for i,x in enumerate(f2_30['bh']) if x.value is not None and i > 0]\n",
    "# rmsdv2 = [x.value for i,x in enumerate(f2_30['bj']) if x.value is not None and i > 0]\n",
    "rmsdx33 = [x.value for i,x in enumerate(f2_30['bu']) if x.value is not None and 1526 > i > 0]\n",
    "# rmsdv33 = [x.value for i,x in enumerate(f2_30['bw']) if x.value is not None and i > 0]\n",
    "rmsdx44 = [x.value for i,x in enumerate(f2_30['ch']) if x.value is not None and 3817 > i > 0]\n",
    "# rmsdv44 = [x.value for i,x in enumerate(f2_30['cj']) if x.value is not None and i > 0]\n",
    "rmsdx45 = [x.value for i,x in enumerate(f2_30['cu']) if x.value is not None and 1153 > i > 0]\n",
    "rmsdx42 = [x.value for i,x in enumerate(f2_30['dh']) if x.value is not None and 6903 > i > 0]\n",
    "rmsdx352 = [x.value for i,x in enumerate(f2_30['du']) if x.value is not None and i > 0]\n",
    "rmsdx32 = [x.value for i,x in enumerate(f2_30['eh']) if x.value is not None and i > 0]\n",
    "rmsdx332 = [x.value for i,x in enumerate(f2_30['eu']) if x.value is not None and i > 0]\n",
    "rmsdx22 = [x.value for i,x in enumerate(f2_30['fh']) if x.value is not None and i > 0]\n",
    "rmsdx222 = [x.value for i,x in enumerate(f2_30['fu']) if x.value is not None and i > 0]\n",
    "\n",
    "# rmsdx5, rmsdx4, rmsdx3, rmsdx2, rmsdx33, rmsdx44, rmsdx45 = rmsdx5[1:1638], rmsdx4[1:4232], rmsdx3[1:1312], rmsdx2[1:], rmsdx33[1:], rmsdx44[1:3817], rmsdx45[1:] \n",
    "# rmsdx42, rmsdx352, rmsdx32, rmsdx332 = rmsdx42[1:], rmsdx352[1:], rmsdx32[1:], rmsdx332[1:]\n",
    "# rmsdv5, rmsdv4, rmsdv3, rmsdv2, rmsdv33, rmsdv44 = rmsdv5[1:1566], rmsdv4[1:4232], rmsdv3[1:1312], rmsdv2[1:], rmsdv33[1:], rmsdv44[1:]"
   ]
  },
  {
   "cell_type": "code",
   "execution_count": null,
   "metadata": {},
   "outputs": [],
   "source": [
    "# dx = [x.value for x in f2_30['k'] if x.value is not None]\n",
    "# dy = [x.value for x in f2_30['l'] if x.value is not None]\n",
    "# dz = [x.value for x in f2_30['m'] if x.value is not None]\n",
    "# dx, dy, dz = dx[1:], dy[1:], dz[1:]"
   ]
  },
  {
   "cell_type": "code",
   "execution_count": null,
   "metadata": {},
   "outputs": [],
   "source": [
    "# print(len(t5), len(t4), len(t3), len(rmsdv3))\n",
    "# rmsdv5 = move_avg_time(rmsdv5, t5, 50)\n",
    "# rmsdv4 = move_avg_time(rmsdv4, t4, 50)\n",
    "# rmsdv3 = move_avg_time(rmsdv3, t3, 50)\n",
    "# rmsdv3 = move_avg_time(rmsdv3, t3, 50)"
   ]
  },
  {
   "cell_type": "code",
   "execution_count": null,
   "metadata": {},
   "outputs": [],
   "source": [
    "t = [x.value for x in f2_30['f'] if x.value is not None]\n",
    "rmsdv = [x.value for x in f2_30['j'] if x.value is not None]\n",
    "t,rmsdv = t[1:],rmsdv[1:]\n",
    "rmsdv = move_avg_time(rmsdv, t, 50)"
   ]
  },
  {
   "cell_type": "code",
   "execution_count": null,
   "metadata": {},
   "outputs": [],
   "source": [
    "p0 = go.Scatter(x=[644.8,644.8], y=[-1,5], mode='lines', line=dict(color='lightgreen', dash='dash'), showlegend=False)\n",
    "p1 = go.Scatter(x=[1015.04,1015.04], y=[-1,5], mode='lines', line=dict(color='lightgreen', dash='dash'), showlegend=False)\n",
    "p2 = go.Scatter(x=[1258.4,1258.4], y=[-1,5], mode='lines', line=dict(color='lightgreen', dash='dash'), showlegend=False)\n",
    "p3 = go.Scatter(x=[1778.4,1778.4], y=[-1,5], mode='lines', line=dict(color='lightgreen', dash='dash'), showlegend=False)\n",
    "p4 = go.Scatter(x=[2159.04,2159.04], y=[-1,5], mode='lines', line=dict(color='lightgreen', dash='dash'), showlegend=False)\n",
    "p5 = go.Scatter(x=[2404.48,2404.48], y=[-1,5], mode='lines', line=dict(color='lightgreen', dash='dash'), showlegend=False)\n",
    "p6 = go.Scatter(x=[3265.6,3265.6], y=[-1,5], mode='lines', line=dict(color='lightgreen', dash='dash'), showlegend=False)\n",
    "\n",
    "data1 = go.Scatter(\n",
    "    x = t5,\n",
    "    y = [i/x_c for i in rmsdx5],\n",
    "    mode = 'lines',\n",
    "    line = dict(color = 'green'),\n",
    "#     name = r'$\\Delta t=5$'\n",
    "    name = r'$5\\times 10^{-4}$'\n",
    ")\n",
    "data2 = go.Scatter(\n",
    "    x = t4,\n",
    "    y = [i/x_c for i in rmsdx4],\n",
    "    mode = 'lines',\n",
    "    line = dict(color = 'blue'),\n",
    "#     name = r'$\\Delta t=4$'\n",
    "    name = r'$4\\times 10^{-4}$'\n",
    ")\n",
    "data3 = go.Scatter(\n",
    "    x = t3,\n",
    "    y = [i/x_c for i in rmsdx3],\n",
    "    mode = 'lines',\n",
    "    line = dict(color = 'red'),\n",
    "#     name = r'$\\Delta t=3$'\n",
    "    name = r'$3\\times 10^{-4}$'\n",
    ")\n",
    "data4 = go.Scatter(\n",
    "    x = t2,\n",
    "    y = [i/x_c for i in rmsdx2],\n",
    "    mode = 'lines',\n",
    "    line = dict(color = 'orange'),\n",
    "#     name = r'$\\Delta t=2$'\n",
    "    name = r'$2\\times 10^{-4}$'\n",
    ")\n",
    "data5 = go.Scatter(\n",
    "    x = t33,\n",
    "    y = [i/x_c for i in rmsdx33],\n",
    "    mode = 'lines',\n",
    "    line = dict(color = 'red'),\n",
    "    showlegend=False\n",
    ")\n",
    "data6 = go.Scatter(\n",
    "    x = t44,\n",
    "    y = [i/x_c for i in rmsdx44],\n",
    "    mode = 'lines',\n",
    "    line = dict(color = 'blue'),\n",
    "    showlegend=False\n",
    ")\n",
    "data7 = go.Scatter(\n",
    "    x = t45,\n",
    "    y = [i/x_c for i in rmsdx45],\n",
    "    mode = 'lines',\n",
    "    line = dict(color = 'purple'),\n",
    "#     showlegend=False\n",
    "    name = r'$4.5\\times 10^{-4}$'\n",
    ")\n",
    "data8 = go.Scatter(\n",
    "    x = t42,\n",
    "    y = [i/x_c for i in rmsdx42],\n",
    "    mode = 'lines',\n",
    "    line = dict(color = 'blue'),\n",
    "    showlegend=False\n",
    ")\n",
    "data9 = go.Scatter(\n",
    "    x = t332,\n",
    "    y = [i/x_c for i in rmsdx332],\n",
    "    mode = 'lines',\n",
    "    line = dict(color = 'rgb(238,130,238)'),\n",
    "    showlegend=False\n",
    ")\n",
    "data10 = go.Scatter(\n",
    "    x = t32,\n",
    "    y = [i/x_c for i in rmsdx32],\n",
    "    mode = 'lines',\n",
    "    line = dict(color = 'red'),\n",
    "    showlegend=False\n",
    ")\n",
    "data11 = go.Scatter(\n",
    "    x = t22,\n",
    "    y = [i/x_c for i in rmsdx22],\n",
    "    mode = 'lines',\n",
    "    line = dict(color = 'orange'),\n",
    "    showlegend=False\n",
    ")\n",
    "data12 = go.Scatter(\n",
    "    x = t222,\n",
    "    y = [i/x_c for i in rmsdx222],\n",
    "    mode = 'lines',\n",
    "    line = dict(color = 'green'),\n",
    "    showlegend=False\n",
    ")\n",
    "# datav = go.Scatter(\n",
    "#     x = t[120:],\n",
    "#     y = [i/v_c for i in rmsdv],\n",
    "#     mode = 'lines',\n",
    "#     line = dict(color = 'purple'),\n",
    "#     showlegend=False\n",
    "# )\n",
    "# data11 = go.Scatter(\n",
    "#     x = t45_1,\n",
    "#     y = rmsdx45_1,\n",
    "#     mode = 'lines',\n",
    "#     line = dict(color = 'red'),\n",
    "# #     name = r'$\\Delta t=5$'\n",
    "# #     name = r'$5\\times 10^{-4}$'\n",
    "#     showlegend=False\n",
    "# )"
   ]
  },
  {
   "cell_type": "code",
   "execution_count": null,
   "metadata": {
    "scrolled": false
   },
   "outputs": [],
   "source": [
    "layout = go.Layout(\n",
    "    xaxis=dict(\n",
    "#         range=[0, 520],\n",
    "        ticks = 'inside',\n",
    "#         dtick = 6,\n",
    "        mirror = 'ticks',\n",
    "        title=r'$\\mbox{Simulated Time } (\\mu s)$',\n",
    "        showline=True,\n",
    "        zeroline=False,\n",
    "        showticklabels=True,\n",
    "        showgrid=True,\n",
    "    ),\n",
    "    yaxis=dict(\n",
    "        range=[0, 0.07],\n",
    "        title=r'$\\mbox{RMSDX}$',\n",
    "        ticks = 'inside',\n",
    "        mirror = 'ticks',\n",
    "#         tickformat = ',.0%',\n",
    "        dtick = 0.01,\n",
    "        showline=True,\n",
    "        zeroline=False,\n",
    "        showticklabels=True,\n",
    "        showgrid=True\n",
    "    ),\n",
    "    legend=dict(\n",
    "        x=0.02,\n",
    "        y=0.98,\n",
    "        traceorder='normal',\n",
    "        font=dict(color='black', size=14),\n",
    "#         bgcolor='#E2E2E2',\n",
    "#         bordercolor='black',\n",
    "        borderwidth=1\n",
    "    ),\n",
    "    showlegend=True,\n",
    "    autosize=False,\n",
    "    width=700,\n",
    "    height=300,\n",
    "    margin=go.layout.Margin(\n",
    "        l=80,\n",
    "        r=20,\n",
    "        b=40,\n",
    "        t=20,\n",
    "        pad=0\n",
    "    )\n",
    ")\n",
    "fig = go.Figure(data=[p0,p1,p2,p3,p4,p5,p6,\n",
    "                      data1,data2,data3,data4,data5,data6,data7,data8,data9,data10,data11,data12], layout=layout)\n",
    "# py.iplot(fig, filename='RMSDX')\n",
    "iplot(fig)"
   ]
  },
  {
   "cell_type": "code",
   "execution_count": null,
   "metadata": {},
   "outputs": [],
   "source": [
    "pio.write_image(fig, 'RMSDX.png', format='png', scale=5)\n",
    "print(\"Done!\")"
   ]
  },
  {
   "cell_type": "code",
   "execution_count": null,
   "metadata": {
    "scrolled": false
   },
   "outputs": [],
   "source": [
    "layout = go.Layout(\n",
    "    xaxis=dict(\n",
    "        range=[0, 4000],\n",
    "        ticks = 'inside',\n",
    "#         dtick = 6,\n",
    "        mirror = 'ticks',\n",
    "        title=r'$\\mbox{Simulated Time } (\\mu s)$',\n",
    "        showline=True,\n",
    "        zeroline=False,\n",
    "        showticklabels=True,\n",
    "        showgrid=True,\n",
    "    ),\n",
    "    yaxis=dict(\n",
    "        range=[0.3, 0.7],\n",
    "        title=r'$\\mbox{RMSDV} (cm/s)$',\n",
    "        ticks = 'inside',\n",
    "        mirror = 'ticks',\n",
    "#         dtick = 0.01,\n",
    "        showline=True,\n",
    "        zeroline=False,\n",
    "        showticklabels=True,\n",
    "        showgrid=True\n",
    "    ),\n",
    "    legend=dict(\n",
    "        x=0.02,\n",
    "        y=0.94,\n",
    "        traceorder='normal',\n",
    "        font=dict(color='black', size=16),\n",
    "#         bgcolor='#E2E2E2',\n",
    "#         bordercolor='black',\n",
    "        borderwidth=1\n",
    "    ),\n",
    "    showlegend=False,\n",
    "    autosize=False,\n",
    "    width=700,\n",
    "    height=300,\n",
    "    margin=go.layout.Margin(\n",
    "        l=80,\n",
    "        r=20,\n",
    "        b=40,\n",
    "        t=20,\n",
    "        pad=0\n",
    "    )\n",
    ")\n",
    "fig = go.Figure(data=[phase_line0,phase_line1,phase_line2,phase_line3,phase_line4,phase_line5,phase_line6,\n",
    "                      datav], layout=layout)\n",
    "iplot(fig)"
   ]
  },
  {
   "cell_type": "code",
   "execution_count": null,
   "metadata": {},
   "outputs": [],
   "source": [
    "pio.write_image(fig, 'RMSDV.png', format='png', scale=5)\n",
    "print(\"Done!\")"
   ]
  },
  {
   "cell_type": "code",
   "execution_count": null,
   "metadata": {},
   "outputs": [],
   "source": [
    "sns.set_style(\"darkgrid\") # darkgrid, whitegrid, dark, white, ticks\n",
    "sns.set_context(\"notebook\") # paper, notebook, talk, poster\n",
    "fig = pl.figure(figsize=(14, 7), dpi=100)\n",
    "ax1 = fig.add_subplot(111)\n",
    "\n",
    "ax1.plot([644.8,644.8], [-0.1,0.1], linestyle='-.', color='lightgreen', linewidth=1, alpha=1)\n",
    "ax1.plot([1015.04,1015.04], [-0.1,0.1], linestyle='-.', color='lightgreen', linewidth=1, alpha=1)\n",
    "ax1.plot([1258.4,1258.4], [-0.1,0.1], linestyle='-.', color='lightgreen', linewidth=1, alpha=1)\n",
    "ax1.plot([1778.4,1778.4], [-0.1,0.1], linestyle='-.', color='lightgreen', linewidth=1, alpha=1)\n",
    "\n",
    "ax1.plot(t5, rmsdx5, linestyle='-', color='green', linewidth=1, alpha=1, label=r'$5\\times 10^-4$')\n",
    "ax1.plot(t4, rmsdx4, linestyle='-', color='blue', linewidth=1, alpha=1, label=r'$4\\times 10^-4$')\n",
    "ax1.plot(t3, rmsdx3, linestyle='-', color='red', linewidth=1, alpha=1, label=r'$3\\times 10^-4$')\n",
    "ax1.plot(t2, rmsdx2, linestyle='-', color='orange', linewidth=1, alpha=1, label=r'$2\\times 10^-4$')\n",
    "ax1.plot(t33, rmsdx33, linestyle='-', color='red', linewidth=1, alpha=1)\n",
    "\n",
    "ax1.legend(loc=3, ncol=1)\n",
    "# ax1.set_xlim([0,3150])\n",
    "# ax1.set_xticks(range(0,3001,1000))\n",
    "# ax1.set_ylim([-0.005,0.001])\n",
    "# ax1.set_yticks([0,-np.pi/2,-np.pi])\n",
    "# ax1.set_yticklabels([0,r'$-\\frac{\\pi}{2}$',r'$-\\pi$'])\n",
    "ax1.set_xlabel(r'Simulated Time ($\\mu s$)')\n",
    "ax1.set_ylabel(r'RMSDX ($\\mu m$)')\n",
    "\n",
    "# ax2 = fig.add_subplot(122)\n",
    "# ax2.plot(J_t[1:], J_omega[1:], marker='', color='blue', linewidth=1, alpha=1, label=r'$\\omega$')\n",
    "# ax2.legend(loc=3, ncol=1)\n",
    "# ax2.set_xlim([0,3150])\n",
    "# ax2.set_xticks(range(0,3001,500))\n",
    "# ax2.set_xlabel(r'Time ($\\mu s$)')\n",
    "# ax2.set_ylabel(r'Angular Velocity ($\\mu s^{-1}$)')\n",
    "\n",
    "# fig.subplots_adjust(bottom=0.1, right=0.8, top=0.9, wspace = 0.2, hspace = 0.2)\n",
    "# fig.subplots_adjust(wspace = 0.3)\n",
    "\n",
    "# fig.savefig('RMSDX1.png', dpi=200, bbox_inches='tight')"
   ]
  },
  {
   "cell_type": "code",
   "execution_count": null,
   "metadata": {},
   "outputs": [],
   "source": [
    "sns.set_style(\"ticks\") # darkgrid, whitegrid, dark, white, ticks\n",
    "sns.set_context(\"notebook\") # paper, notebook, talk, poster\n",
    "fig = pl.figure(figsize=(10, 4), dpi=100)\n",
    "ax1 = fig.add_subplot(111)\n",
    "for i in range(len(pline)):\n",
    "    ax1.plot([pline[i]]*2, [-4,1], color='lightgreen', linewidth=1, alpha=1, linestyle='--')\n",
    "# ax1.plot(x_theta, J_theta, linestyle='--', markersize=1, color='cyan', linewidth=1, alpha=1, label=r'$\\phi^{J}$')\n",
    "ax1.plot([i*gamma for i in t5], [i/x_c for i in rmsdx5], linestyle='-', color='green', linewidth=1.5, alpha=1, label=r'$5\\times10^{-4}$')\n",
    "ax1.plot([i*gamma for i in t4], [i/x_c for i in rmsdx4], linestyle='-', color='blue', linewidth=1.5, alpha=1, label=r'$4\\times10^{-4}$')\n",
    "ax1.plot([i*gamma for i in t3], [i/x_c for i in rmsdx3], linestyle='-', color='orange', linewidth=1.5, alpha=1, label=r'$3\\times10^{-4}$')\n",
    "ax1.plot([i*gamma for i in t2], [i/x_c for i in rmsdx2], linestyle='-', color='red', linewidth=1.5, alpha=1, label=r'$2\\times10^{-4}$')\n",
    "ax1.plot([i*gamma for i in t33], [i/x_c for i in rmsdx33], linestyle='-', color='orange', linewidth=1.5, alpha=1)\n",
    "ax1.plot([i*gamma for i in t44], [i/x_c for i in rmsdx44], linestyle='-', color='blue', linewidth=1.5, alpha=1)\n",
    "ax1.plot([i*gamma for i in t45], [i/x_c for i in rmsdx45], linestyle='-', color='purple', linewidth=1.5, alpha=1, label=r'$4.5\\times10^{-4}$')\n",
    "ax1.plot([i*gamma for i in t42], [i/x_c for i in rmsdx42], linestyle='-', color='blue', linewidth=1.5, alpha=1)\n",
    "ax1.plot([i*gamma for i in t332], [i/x_c for i in rmsdx332], linestyle='-', color='orange', linewidth=1.5, alpha=1)\n",
    "ax1.plot([i*gamma for i in t222], [i/x_c for i in rmsdx222], linestyle='-', color='red', linewidth=1.5, alpha=1)\n",
    "# ax1.plot([i*gamma for i in t4], rmsdx4, linestyle='-', color='darkred', linewidth=1.5, alpha=1, label=r'$\\phi ^{ats}$')\n",
    "\n",
    "# ax1.plot([0,15], [0,0], color='black', linewidth=1, alpha=0.5, linestyle='--')\n",
    "# ax1.plot(t_sts[w-1], func(t_sts[w-1], *popt), 'k--',)\n",
    "\n",
    "ax1.legend(loc=2, ncol=1)\n",
    "ax1.set_xlim([0,12])\n",
    "# ax1.set_xticks(range(0,3001,1000))\n",
    "ax1.set_ylim([0,0.05])\n",
    "# ax1.set_yticks([-1.8+i*0.2 for i in range(11)])\n",
    "# ax1.set_yticks([0,-np.pi/2,-np.pi])\n",
    "# ax1.set_yticklabels([0,r'$-\\frac{\\pi}{2}$',r'$-\\pi$'])\n",
    "ax1.set_yticklabels(['{:.0%}'.format(x) for x in [0,0.01,0.02,0.03,0.04,0.05]])\n",
    "ax1.set_xlabel(r'$\\dot\\gamma t$')\n",
    "ax1.set_ylabel(r'Normalized RMSD')"
   ]
  },
  {
   "cell_type": "code",
   "execution_count": null,
   "metadata": {},
   "outputs": [],
   "source": [
    "fig.savefig('RMSDX.png', dpi=200, bbox_inches='tight')"
   ]
  }
 ],
 "metadata": {
  "anaconda-cloud": {},
  "kernelspec": {
   "display_name": "Python [conda env:py37]",
   "language": "python",
   "name": "conda-env-py37-py"
  },
  "language_info": {
   "codemirror_mode": {
    "name": "ipython",
    "version": 3
   },
   "file_extension": ".py",
   "mimetype": "text/x-python",
   "name": "python",
   "nbconvert_exporter": "python",
   "pygments_lexer": "ipython3",
   "version": "3.7.1"
  },
  "toc": {
   "base_numbering": 1,
   "nav_menu": {
    "height": "137px",
    "width": "266px"
   },
   "number_sections": true,
   "sideBar": true,
   "skip_h1_title": true,
   "title_cell": "Table of Contents",
   "title_sidebar": "Contents",
   "toc_cell": true,
   "toc_position": {},
   "toc_section_display": true,
   "toc_window_display": false
  }
 },
 "nbformat": 4,
 "nbformat_minor": 2
}
